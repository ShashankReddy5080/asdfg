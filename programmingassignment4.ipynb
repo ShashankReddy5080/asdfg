{
 "cells": [
  {
   "cell_type": "raw",
   "id": "3dd0a80d-6883-464f-8474-f85552da8958",
   "metadata": {},
   "source": [
    "1. Write a Python Program to Find LCM?"
   ]
  },
  {
   "cell_type": "code",
   "execution_count": 1,
   "id": "36671678-9678-48e5-a24c-67e233a747d8",
   "metadata": {},
   "outputs": [
    {
     "name": "stdin",
     "output_type": "stream",
     "text": [
      "Enter first number:  25\n",
      "Enter second number:  5\n"
     ]
    },
    {
     "name": "stdout",
     "output_type": "stream",
     "text": [
      "The LCM of 25 and 5 is 25.\n"
     ]
    }
   ],
   "source": [
    "def find_gcd(x, y):\n",
    "    while y:\n",
    "        x, y = y, x % y\n",
    "    return x\n",
    "num1 = int(input(\"Enter first number: \"))\n",
    "num2 = int(input(\"Enter second number: \"))\n",
    "lcm = (num1 * num2) // find_gcd(num1, num2)\n",
    "print(f\"The LCM of {num1} and {num2} is {lcm}.\")\n"
   ]
  },
  {
   "cell_type": "raw",
   "id": "34503b7d-88b4-45c6-a2e1-1d369e9293be",
   "metadata": {},
   "source": [
    "2. Write a Python Program to Find HCF?"
   ]
  },
  {
   "cell_type": "code",
   "execution_count": 2,
   "id": "5ea0c1d1-f77c-4016-be2b-29b5dcef7d70",
   "metadata": {},
   "outputs": [
    {
     "name": "stdin",
     "output_type": "stream",
     "text": [
      "Enter first number:  32\n",
      "Enter second number:  48\n"
     ]
    },
    {
     "name": "stdout",
     "output_type": "stream",
     "text": [
      "The HCF of 32 and 48 is 16.\n"
     ]
    }
   ],
   "source": [
    "def find_hcf(x, y):\n",
    "    while y:\n",
    "        x, y = y, x % y\n",
    "    return x\n",
    "num1 = int(input(\"Enter first number: \"))\n",
    "num2 = int(input(\"Enter second number: \"))\n",
    "hcf = find_hcf(num1, num2)\n",
    "\n",
    "print(f\"The HCF of {num1} and {num2} is {hcf}.\")\n"
   ]
  },
  {
   "cell_type": "raw",
   "id": "be6d68f2-0416-4e45-9253-a637c6a5a354",
   "metadata": {},
   "source": [
    "3. Write a Python Program to Convert Decimal to Binary, Octal and Hexadecimal?"
   ]
  },
  {
   "cell_type": "code",
   "execution_count": 4,
   "id": "fa42b9e8-2e31-4337-8825-657dcf0ed198",
   "metadata": {},
   "outputs": [
    {
     "name": "stdin",
     "output_type": "stream",
     "text": [
      "enter decimal number 34\n"
     ]
    },
    {
     "name": "stdout",
     "output_type": "stream",
     "text": [
      "0b100010 0o42 0x22\n"
     ]
    }
   ],
   "source": [
    "decimal_number=int(input(\"enter decimal number\"))\n",
    "binary_number=bin(decimal_number)\n",
    "octal_number=oct(decimal_number)\n",
    "hexa_number=hex(decimal_number)\n",
    "print(binary_number,octal_number,hexa_number)\n"
   ]
  },
  {
   "cell_type": "raw",
   "id": "30fe9cac-42da-4948-8876-70f5d9338519",
   "metadata": {},
   "source": [
    "4. Write a Python Program To Find ASCII value of a character?"
   ]
  },
  {
   "cell_type": "code",
   "execution_count": null,
   "id": "eda46e46-0235-452e-8cb5-395631d01727",
   "metadata": {},
   "outputs": [],
   "source": [
    "character=str(input(\"enter the character to find ascii value for\"))\n",
    "ascii_value=ord(character)\n",
    "if len(character)==1:\n",
    "    print(ascii_value)\n",
    "else :\n",
    "    print(\"enter a single character\")\n",
    "    "
   ]
  },
  {
   "cell_type": "raw",
   "id": "008786ed-90dc-4a0d-b710-e107deccfd50",
   "metadata": {},
   "source": [
    "5. Write a Python Program to Make a Simple Calculator with 4 basic mathematical operations?"
   ]
  },
  {
   "cell_type": "code",
   "execution_count": null,
   "id": "eec5a4f6-b949-473c-ab29-b65423743a50",
   "metadata": {},
   "outputs": [],
   "source": []
  },
  {
   "cell_type": "code",
   "execution_count": null,
   "id": "4e1a9840-b3bf-4931-9bf4-a91479af3b8e",
   "metadata": {},
   "outputs": [],
   "source": []
  },
  {
   "cell_type": "code",
   "execution_count": null,
   "id": "07794f3c-9a63-4ada-99b1-95b3f90387f5",
   "metadata": {},
   "outputs": [],
   "source": []
  }
 ],
 "metadata": {
  "kernelspec": {
   "display_name": "Python 3 (ipykernel)",
   "language": "python",
   "name": "python3"
  },
  "language_info": {
   "codemirror_mode": {
    "name": "ipython",
    "version": 3
   },
   "file_extension": ".py",
   "mimetype": "text/x-python",
   "name": "python",
   "nbconvert_exporter": "python",
   "pygments_lexer": "ipython3",
   "version": "3.10.6"
  }
 },
 "nbformat": 4,
 "nbformat_minor": 5
}
