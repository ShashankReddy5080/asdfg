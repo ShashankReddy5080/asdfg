{
 "cells": [
  {
   "cell_type": "raw",
   "id": "1a5ac041-b7d8-4e24-81d9-ddfeff8969eb",
   "metadata": {},
   "source": [
    "1. Write a Python program to find words which are greater than given length k?"
   ]
  },
  {
   "cell_type": "code",
   "execution_count": 8,
   "id": "9b28443e-42a2-475d-9fb4-66b6978d5e7b",
   "metadata": {},
   "outputs": [
    {
     "name": "stdin",
     "output_type": "stream",
     "text": [
      "enter value of k 4\n"
     ]
    },
    {
     "name": "stdout",
     "output_type": "stream",
     "text": [
      "['banana', 'apple', 'papaya', 'maggie']\n"
     ]
    }
   ],
   "source": [
    "words=[\"banana\",\"apple\",\"red\",\"papaya\",\"maggie\",\"love\"]\n",
    "result=[]\n",
    "k=int(input(\"enter value of k\"))\n",
    "for word in words:\n",
    "    if len(word)>k:\n",
    "        result.append(word)\n",
    "print(result)\n",
    "    \n"
   ]
  },
  {
   "cell_type": "raw",
   "id": "3a15a1c3-dd6f-4226-8bd3-2ad0c7c2d8ee",
   "metadata": {},
   "source": [
    "2. Write a Python program for removing i-th character from a string?"
   ]
  },
  {
   "cell_type": "code",
   "execution_count": 11,
   "id": "4909c1ad-c0cc-46e1-9814-1c008bedfd11",
   "metadata": {},
   "outputs": [
    {
     "name": "stdout",
     "output_type": "stream",
     "text": [
      "helloworld\n"
     ]
    }
   ],
   "source": [
    "def remove_ith_character(string, i):\n",
    "    if i < 0 or i >= len(string):\n",
    "        return \"Invalid index\"\n",
    "    else:\n",
    "        return string[:i] + string[i+1:]"
   ]
  },
  {
   "cell_type": "raw",
   "id": "59227b4a-76e9-4f63-a2f2-401592e81100",
   "metadata": {},
   "source": [
    "3. Write a Python program to split and join a string?"
   ]
  },
  {
   "cell_type": "code",
   "execution_count": 18,
   "id": "36c1bafd-b08b-4d6e-afe3-59755d9565bc",
   "metadata": {},
   "outputs": [
    {
     "name": "stdin",
     "output_type": "stream",
     "text": [
      "enter a sentence enter a sentence\n"
     ]
    },
    {
     "name": "stdout",
     "output_type": "stream",
     "text": [
      "['enter', 'a', 'sentence']\n",
      "enter-a-sentence\n"
     ]
    }
   ],
   "source": [
    "stri=str(input(\"enter a sentence\"))\n",
    "s=stri.split()\n",
    "print(s)\n",
    "newstring='-'.join(s)\n",
    "print(newstring)\n"
   ]
  },
  {
   "cell_type": "raw",
   "id": "86b97ab4-64ed-413e-9f5d-9f3c70acde6b",
   "metadata": {},
   "source": [
    "4. Write a Python to check if a given string is binary string or not?\n"
   ]
  },
  {
   "cell_type": "code",
   "execution_count": 23,
   "id": "091b7978-53bb-48c0-b484-0c8d97fe61fa",
   "metadata": {},
   "outputs": [
    {
     "data": {
      "text/plain": [
       "False"
      ]
     },
     "execution_count": 23,
     "metadata": {},
     "output_type": "execute_result"
    }
   ],
   "source": [
    "def str_is_binary(string):\n",
    "    for char in string:\n",
    "        if char=='1'and char=='0':\n",
    "            return True\n",
    "        else:\n",
    "            return False\n",
    "str_is_binary('123456')\n",
    "     "
   ]
  },
  {
   "cell_type": "raw",
   "id": "9f1d6f00-1b19-4729-ab33-b56a1523038e",
   "metadata": {},
   "source": [
    "5. Write a Python program to find uncommon words from two Strings?"
   ]
  },
  {
   "cell_type": "code",
   "execution_count": 28,
   "id": "35733a24-a57d-4195-b5ca-ff4d2f4dfae4",
   "metadata": {},
   "outputs": [
    {
     "data": {
      "text/plain": [
       "{'bad', 'boy', 'chinni', 'girl', 'good', 'shashank'}"
      ]
     },
     "execution_count": 28,
     "metadata": {},
     "output_type": "execute_result"
    }
   ],
   "source": [
    "def uncommon_words(string1,string2):\n",
    "    words1=string1.split()\n",
    "    words2=string2.split()\n",
    "    set1=set(words1)\n",
    "    set2=set(words2)\n",
    "    uncommon=set1.symmetric_difference(set2)\n",
    "    return uncommon\n",
    "string1=\"shashank is a good boy\"\n",
    "string2=\"chinni is a bad girl\"\n",
    "uncommon_words(string1,string2)"
   ]
  },
  {
   "cell_type": "raw",
   "id": "ed9e248d-cced-4c92-aef3-bda3c252c675",
   "metadata": {},
   "source": [
    "6. Write a Python to find all duplicate characters in string?"
   ]
  },
  {
   "cell_type": "code",
   "execution_count": 29,
   "id": "df384e98-52a6-485b-b276-d98548608fd1",
   "metadata": {},
   "outputs": [
    {
     "name": "stdout",
     "output_type": "stream",
     "text": [
      "Duplicate characters: ['l', 'o']\n"
     ]
    }
   ],
   "source": [
    "def find_duplicate_characters(string):\n",
    "    char_count = {}\n",
    "    for char in string:\n",
    "        char_count[char] = char_count.get(char, 0) + 1\n",
    "    duplicate_chars = []\n",
    "    for char, count in char_count.items():\n",
    "        if count > 1:\n",
    "            duplicate_chars.append(char)\n",
    "\n",
    "    return duplicate_chars\n",
    "input_string = \"hello world\"\n",
    "duplicates = find_duplicate_characters(input_string)\n",
    "print(\"Duplicate characters:\", duplicates)\n"
   ]
  },
  {
   "cell_type": "raw",
   "id": "a2dcbad4-c9e6-4c53-a903-b98f18cd34d7",
   "metadata": {},
   "source": [
    "7. Write a Python Program to check if a string contains any special character?"
   ]
  },
  {
   "cell_type": "code",
   "execution_count": 40,
   "id": "54ba0a96-c86f-4250-8c4d-a2dad5f2edc2",
   "metadata": {},
   "outputs": [
    {
     "ename": "TypeError",
     "evalue": "'in <string>' requires string as left operand, not set",
     "output_type": "error",
     "traceback": [
      "\u001b[0;31m---------------------------------------------------------------------------\u001b[0m",
      "\u001b[0;31mTypeError\u001b[0m                                 Traceback (most recent call last)",
      "Cell \u001b[0;32mIn[40], line 9\u001b[0m\n\u001b[1;32m      6\u001b[0m         \u001b[38;5;28;01mreturn\u001b[39;00m \u001b[38;5;124m\"\u001b[39m\u001b[38;5;124mThere are  special characters\u001b[39m\u001b[38;5;124m\"\u001b[39m\n\u001b[1;32m      8\u001b[0m string \u001b[38;5;241m=\u001b[39m \u001b[38;5;124m\"\u001b[39m\u001b[38;5;124mwhat the heck?!!\u001b[39m\u001b[38;5;124m\"\u001b[39m\n\u001b[0;32m----> 9\u001b[0m \u001b[43mfinding_spchar\u001b[49m\u001b[43m(\u001b[49m\u001b[43mstring\u001b[49m\u001b[43m)\u001b[49m\n",
      "Cell \u001b[0;32mIn[40], line 3\u001b[0m, in \u001b[0;36mfinding_spchar\u001b[0;34m(string)\u001b[0m\n\u001b[1;32m      1\u001b[0m \u001b[38;5;28;01mdef\u001b[39;00m \u001b[38;5;21mfinding_spchar\u001b[39m(string):\n\u001b[1;32m      2\u001b[0m     sp \u001b[38;5;241m=\u001b[39m \u001b[38;5;28mset\u001b[39m(\u001b[38;5;124m'\u001b[39m\u001b[38;5;124m!@#$\u001b[39m\u001b[38;5;124m%\u001b[39m\u001b[38;5;124m^&*()-_+=<>,.?/\u001b[39m\u001b[38;5;124m'\u001b[39m)\n\u001b[0;32m----> 3\u001b[0m     \u001b[38;5;28;01mif\u001b[39;00m \u001b[43msp\u001b[49m\u001b[43m \u001b[49m\u001b[38;5;129;43;01min\u001b[39;49;00m\u001b[43m \u001b[49m\u001b[43mstring\u001b[49m:\n\u001b[1;32m      4\u001b[0m         \u001b[38;5;28;01mreturn\u001b[39;00m \u001b[38;5;124m\"\u001b[39m\u001b[38;5;124mThere are special characters\u001b[39m\u001b[38;5;124m\"\u001b[39m\n\u001b[1;32m      5\u001b[0m     \u001b[38;5;28;01melse\u001b[39;00m:\n",
      "\u001b[0;31mTypeError\u001b[0m: 'in <string>' requires string as left operand, not set"
     ]
    }
   ],
   "source": [
    "def finding_spchar(string):\n",
    "    sp = set('!@#$%^&*()-_+=<>,.?/')\n",
    "    if sp in string:\n",
    "        return \"There are special characters\"\n",
    "    else:\n",
    "        return \"There are  special characters\"\n",
    "\n",
    "string = \"what the heck?!!\"\n",
    "finding_spchar(string)"
   ]
  },
  {
   "cell_type": "code",
   "execution_count": 34,
   "id": "390839ef-13b3-4af8-aeb2-a0ae10362ec5",
   "metadata": {},
   "outputs": [
    {
     "name": "stdout",
     "output_type": "stream",
     "text": [
      "There are special characters\n"
     ]
    }
   ],
   "source": [
    "def finding_spchar(string):\n",
    "    sp = '!@#$%^&*()-_+=<>,.?/'\n",
    "    for char in string:\n",
    "        if char in sp:\n",
    "            return \"There are special characters\"\n",
    "    return \"There are no special characters\"\n",
    "\n",
    "string = \"what the heck?!!\"\n",
    "print(finding_spchar(string))\n"
   ]
  },
  {
   "cell_type": "code",
   "execution_count": null,
   "id": "ddc7d61d-74fa-4785-9e0b-38f8be72115d",
   "metadata": {},
   "outputs": [],
   "source": [
    "def finding_spchar(string):\n",
    "    sp='!@#$%^&*()-_+=<>,.?/'\n",
    "    if sp in string:\n",
    "        return \"there are special characters\"\n",
    "    \n",
    "string=\"what the heck?!!\"\n",
    "finding_spchar(string)"
   ]
  }
 ],
 "metadata": {
  "kernelspec": {
   "display_name": "Python 3 (ipykernel)",
   "language": "python",
   "name": "python3"
  },
  "language_info": {
   "codemirror_mode": {
    "name": "ipython",
    "version": 3
   },
   "file_extension": ".py",
   "mimetype": "text/x-python",
   "name": "python",
   "nbconvert_exporter": "python",
   "pygments_lexer": "ipython3",
   "version": "3.10.8"
  }
 },
 "nbformat": 4,
 "nbformat_minor": 5
}
