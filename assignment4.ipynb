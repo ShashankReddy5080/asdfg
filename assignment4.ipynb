{
 "cells": [
  {
   "cell_type": "raw",
   "id": "7a1903ba-baae-422f-a4b1-24401d9bbd44",
   "metadata": {},
   "source": [
    "1.What exactly is []?\n",
    "ans:In python [] denotes an empty list ehich is mutable."
   ]
  },
  {
   "cell_type": "raw",
   "id": "98c09a0a-a413-42df-9298-497b04e4048a",
   "metadata": {},
   "source": [
    "2. In a list of values stored in a variable called spam, how would you assign the value \"hello\" as the\n",
    "third value? (Assume [2, 4, 6, 8, 10] are in spam.)\n",
    "ans:We can directly assign the value in the list by giving:spam[2]=\"hello\""
   ]
  },
  {
   "cell_type": "raw",
   "id": "04f3caf6-f01b-433b-930e-0a97524bbc75",
   "metadata": {},
   "source": [
    "3.What is the value of spam[int(int(3 * 2) / 11)]?\n",
    "ans:the value of int(int(3*2)/11) is spam[3],we assumed spam as ['a','b','c','d'] so spam[3]:is'd'"
   ]
  },
  {
   "cell_type": "raw",
   "id": "15c4f84b-af64-443f-aa8d-b322c353c8fe",
   "metadata": {},
   "source": [
    "4. What is the value of spam[-1]?(list is assumed as ['a','b','c','d'])\n",
    "ans:value of spam[-1] is 'd'."
   ]
  },
  {
   "cell_type": "raw",
   "id": "c5247586-d9f9-4df5-8f2c-7876b150b299",
   "metadata": {},
   "source": [
    "5. What is the value of spam[:2]?\n",
    "ans:the value of spam[:2] is ['a','b,]."
   ]
  },
  {
   "cell_type": "raw",
   "id": "0f0a3ff2-d9e0-44bf-8e24-f66ac21d19d8",
   "metadata": {},
   "source": [
    "Let's pretend bacon has the list [3.14, 'cat', 11, 'cat', 'True'] for the next three questions.\n",
    "6. What is the value of bacon.index('cat')?\n",
    "ans:value of bacon.index('cat') is'1'."
   ]
  },
  {
   "cell_type": "raw",
   "id": "508a6105-6152-47ad-a915-c2a5e145b297",
   "metadata": {},
   "source": [
    "7. How does bacon.append(99) change the look of the list value in bacon?\n",
    "ans:The value 99 will be added at the end of the list i.e list is[3.14,'cat',11,'cat','True',99]"
   ]
  },
  {
   "cell_type": "raw",
   "id": "2034ed68-b25b-4e8f-9f3f-7633723321d2",
   "metadata": {},
   "source": [
    "8. How does bacon.remove('cat') change the look of the list in bacon?\n",
    "ans:The value of bacon.remove('cat') removes the first occurence of 'cat' i.e the list will be:[3.14,11,'cat','True']"
   ]
  },
  {
   "cell_type": "raw",
   "id": "29acffc7-f17e-448d-a8bc-815f4de12eb0",
   "metadata": {},
   "source": [
    "9. What are the list concatenation and list replication operators?\n",
    "ans:List concatination operator is '+' and list replication operator is '*'."
   ]
  },
  {
   "cell_type": "raw",
   "id": "93384cff-373e-4d2f-9c34-7f7c469ddc39",
   "metadata": {},
   "source": [
    "10. What is difference between the list methods append() and insert()?\n",
    "ans:append() is used to add an element at the end of the list where as insert() is used to add an element at a specified postition(syntax:list.insert(index,element))"
   ]
  },
  {
   "cell_type": "raw",
   "id": "e57affcd-19fb-4a5f-96cf-b8a52d71f035",
   "metadata": {},
   "source": [
    "11. What are the two methods for removing items from a list?\n",
    "ans:The two methods of removing an item from a list are remove(),pop()."
   ]
  },
  {
   "cell_type": "raw",
   "id": "075889d9-f05a-465a-861f-f113ef10d790",
   "metadata": {},
   "source": [
    "12. Describe how list values and string values are identical.\n",
    "ans:Lists and string values are identical because they both are sequences."
   ]
  },
  {
   "cell_type": "raw",
   "id": "99b2d4c7-be0b-43e3-a83a-38bec121da1a",
   "metadata": {},
   "source": [
    "13. What's the difference between tuples and lists?\n",
    "ans:Lists are mutable where as tuples are immmutable."
   ]
  },
  {
   "cell_type": "raw",
   "id": "06379e2f-3d28-4d99-8d27-ef2536a300d9",
   "metadata": {},
   "source": [
    " 14. How do you type a tuple value that only contains the integer 42?\n",
    " ans:you can create a tuple with a single value by including a comma after the value.ex: mytuple=(42,)"
   ]
  },
  {
   "cell_type": "raw",
   "id": "377cad77-202b-4368-8ac2-56be00082b8e",
   "metadata": {},
   "source": [
    "15. How do you get a list value&#39;s tuple form? How do you get a tuple value&#39;s list form?\n",
    "ans:You can convert a list to a tuple using the tuple() constructor, and you can convert a tuple to a list using the list() constructor"
   ]
  },
  {
   "cell_type": "raw",
   "id": "deb99594-4899-48a8-83d9-cf8ea0c88c58",
   "metadata": {},
   "source": [
    "16.16. Variables that \"contain\" list values are not necessarily lists themselves. Instead, what do they\n",
    "contain?"
   ]
  },
  {
   "cell_type": "raw",
   "id": "84295f8f-d255-4ca5-815a-aa5553750e0b",
   "metadata": {},
   "source": [
    "17. How do you distinguish between copy.copy() and copy.deepcopy()?\n",
    "ans:"
   ]
  }
 ],
 "metadata": {
  "kernelspec": {
   "display_name": "Python 3 (ipykernel)",
   "language": "python",
   "name": "python3"
  },
  "language_info": {
   "codemirror_mode": {
    "name": "ipython",
    "version": 3
   },
   "file_extension": ".py",
   "mimetype": "text/x-python",
   "name": "python",
   "nbconvert_exporter": "python",
   "pygments_lexer": "ipython3",
   "version": "3.10.6"
  }
 },
 "nbformat": 4,
 "nbformat_minor": 5
}
