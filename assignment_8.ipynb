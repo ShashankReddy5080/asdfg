{
 "cells": [
  {
   "cell_type": "raw",
   "id": "0423e4b3-cae5-41ee-b944-ebc2efe2e35f",
   "metadata": {},
   "source": [
    "1. Is the Python Standard Library included with PyInputPlus?\n",
    "ans: No the python standard library is not included with PyInputplus.We need to import it using :pip install PythonInputPlus."
   ]
  },
  {
   "cell_type": "raw",
   "id": "324ff1bf-5152-4b47-97e2-51e16f8acc2f",
   "metadata": {},
   "source": [
    "2. Why is PyInputPlus commonly imported with import pyinputplus as pypi?\n",
    "ans:We commonly import PyInputPlus commonly as pypi as an alias name i.e like a short name."
   ]
  },
  {
   "cell_type": "raw",
   "id": "0307b266-d6eb-4d51-afc8-4b4485bd83e3",
   "metadata": {},
   "source": [
    "3. How do you distinguish between inputInt() and inputFloat()?\n",
    "ans:inputInt() expects an integer value as an input from the user whereas inputFloat() expects floating point value as an input."
   ]
  },
  {
   "cell_type": "raw",
   "id": "293c3889-8f12-4839-90df-7bc27a1f4b5e",
   "metadata": {},
   "source": [
    "4. Using PyInputPlus, how do you ensure that the user enters a whole number between 0 and 99?\n",
    "ans:We mention a max and min value to get the required output."
   ]
  },
  {
   "cell_type": "code",
   "execution_count": 1,
   "id": "80e0edb6-3e87-4eaa-bddf-48a6dca37f75",
   "metadata": {},
   "outputs": [
    {
     "ename": "ModuleNotFoundError",
     "evalue": "No module named 'pyinputplus'",
     "output_type": "error",
     "traceback": [
      "\u001b[0;31m---------------------------------------------------------------------------\u001b[0m",
      "\u001b[0;31mModuleNotFoundError\u001b[0m                       Traceback (most recent call last)",
      "Cell \u001b[0;32mIn [1], line 1\u001b[0m\n\u001b[0;32m----> 1\u001b[0m \u001b[38;5;28;01mimport\u001b[39;00m \u001b[38;5;21;01mpyinputplus\u001b[39;00m \u001b[38;5;28;01mas\u001b[39;00m \u001b[38;5;21;01mpyip\u001b[39;00m\n\u001b[1;32m      2\u001b[0m value \u001b[38;5;241m=\u001b[39m pyip\u001b[38;5;241m.\u001b[39minputInt(prompt\u001b[38;5;241m=\u001b[39m\u001b[38;5;124m\"\u001b[39m\u001b[38;5;124mEnter a whole number between 0 and 99: \u001b[39m\u001b[38;5;124m\"\u001b[39m, \u001b[38;5;28mmin\u001b[39m\u001b[38;5;241m=\u001b[39m\u001b[38;5;241m0\u001b[39m, \u001b[38;5;28mmax\u001b[39m\u001b[38;5;241m=\u001b[39m\u001b[38;5;241m99\u001b[39m)\n\u001b[1;32m      3\u001b[0m \u001b[38;5;28mprint\u001b[39m(\u001b[38;5;124mf\u001b[39m\u001b[38;5;124m\"\u001b[39m\u001b[38;5;124mYou entered: \u001b[39m\u001b[38;5;132;01m{\u001b[39;00mvalue\u001b[38;5;132;01m}\u001b[39;00m\u001b[38;5;124m\"\u001b[39m)\n",
      "\u001b[0;31mModuleNotFoundError\u001b[0m: No module named 'pyinputplus'"
     ]
    }
   ],
   "source": [
    "import pyinputplus as pyip\n",
    "value = pyip.inputInt(prompt=\"Enter a whole number between 0 and 99: \", min=0, max=99)\n",
    "print(f\"You entered: {value}\")\n"
   ]
  },
  {
   "cell_type": "raw",
   "id": "160835c8-9aa7-459c-b873-a570858289c7",
   "metadata": {},
   "source": [
    "5. What is transferred to the keyword arguments allowRegexes and blockRegexes?\n",
    "ans: allowRegexes:Inputs that match any of the regular expressions in the allowRegexes list are considered valid and allowed.\n",
    "     blockRegexes:Inputs that match any of the regular expressions in the blockRegexes list are considered invalid and blocked."
   ]
  },
  {
   "cell_type": "raw",
   "id": "c9eacfb9-198d-457b-9448-46e3e734ce4f",
   "metadata": {},
   "source": [
    "6. If a blank input is entered three times, what does inputStr(limit=3) do?\n",
    "ans:If a blank input is entered three times consecutively while using inputStr(limit=3) with PyInputPlus, the function will raise a ValidationException after the third blank input."
   ]
  },
  {
   "cell_type": "raw",
   "id": "07966a31-de2e-40e4-b3c6-2c3c8a13efe3",
   "metadata": {},
   "source": [
    "7. If blank input is entered three times, what does inputStr(limit=3, default='hello') do?\n",
    "ans:f a blank input is entered three times consecutively while using inputStr(limit=3, default='hello') with PyInputPlus, the function will return the default value 'hello' after the third blank input. The limit parameter specifies the number of attempts the user has to provide valid input before the default value is returned."
   ]
  },
  {
   "cell_type": "code",
   "execution_count": null,
   "id": "28c5f8e2-2e9d-4965-8e4c-4d092b6f9386",
   "metadata": {},
   "outputs": [],
   "source": []
  },
  {
   "cell_type": "code",
   "execution_count": null,
   "id": "7ea4c1ed-660b-4586-b1df-07716428e36e",
   "metadata": {},
   "outputs": [],
   "source": []
  },
  {
   "cell_type": "code",
   "execution_count": null,
   "id": "24a2ac0f-eb1b-4973-a723-94c819bb2437",
   "metadata": {},
   "outputs": [],
   "source": []
  },
  {
   "cell_type": "code",
   "execution_count": null,
   "id": "aa3eac49-2529-4998-b812-617dc979b148",
   "metadata": {},
   "outputs": [],
   "source": []
  },
  {
   "cell_type": "code",
   "execution_count": null,
   "id": "12e1361a-7719-4328-b06c-4ac2f96bf6fd",
   "metadata": {},
   "outputs": [],
   "source": []
  },
  {
   "cell_type": "code",
   "execution_count": null,
   "id": "3a9741cf-956d-41c4-af33-f83bc213f1f5",
   "metadata": {},
   "outputs": [],
   "source": []
  }
 ],
 "metadata": {
  "kernelspec": {
   "display_name": "Python 3 (ipykernel)",
   "language": "python",
   "name": "python3"
  },
  "language_info": {
   "codemirror_mode": {
    "name": "ipython",
    "version": 3
   },
   "file_extension": ".py",
   "mimetype": "text/x-python",
   "name": "python",
   "nbconvert_exporter": "python",
   "pygments_lexer": "ipython3",
   "version": "3.10.6"
  }
 },
 "nbformat": 4,
 "nbformat_minor": 5
}
