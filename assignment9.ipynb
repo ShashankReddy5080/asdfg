{
 "cells": [
  {
   "cell_type": "raw",
   "id": "d5152082-3c6f-4628-a51c-a187efacb2d4",
   "metadata": {},
   "source": [
    "1. To what does a relative path refer?\n",
    "ans:A relative path refers to the location of a file or directory relative to the current working directory."
   ]
  },
  {
   "cell_type": "raw",
   "id": "031b1523-f56b-4c58-afc1-b29ef5da45b2",
   "metadata": {},
   "source": [
    "2. What does an absolute path start with your operating system?\n",
    "ans:An absolute path starts with a root directory that changes according tio the operating system.My operagting system is windows so it starts with drive letter followed by a colon (:) and then a backslash (\\) for the root directory of that drive.\n"
   ]
  },
  {
   "cell_type": "raw",
   "id": "0b1b2775-6ff8-4ee6-ba6c-e0820435d43f",
   "metadata": {},
   "source": [
    "3. What do the functions os.getcwd() and os.chdir() do?\n",
    "ans:Using ps.getcwd() we get current directory and by using os.chdir() we can change the directory."
   ]
  },
  {
   "cell_type": "raw",
   "id": "83441db5-1d8f-4d94-9d93-8313ed2604a9",
   "metadata": {},
   "source": [
    "4. What are the . and .. folders?\n",
    "ans:the . folder represents the current directory and the .. folder represents the parent directory."
   ]
  },
  {
   "cell_type": "raw",
   "id": "dcefbcc3-55c5-49b6-ad3e-2415b2845c70",
   "metadata": {},
   "source": [
    "5. In C:\\bacon\\eggs\\spam.txt, which part is the dir name, and which part is the base name?\n",
    "ans:The part which represents the actual name of the file, including its extension (.txt in this case)is called base part.Here the base part is spam.txt."
   ]
  },
  {
   "cell_type": "raw",
   "id": "383fcef4-416d-4d67-99b8-82ebf913f630",
   "metadata": {},
   "source": [
    "6. What are the three “mode” arguments that can be passed to the open() function?\n",
    "ans:The three mode arguments that can be passed to the open() function are 'r','w','a' i.e read,write,append."
   ]
  },
  {
   "cell_type": "raw",
   "id": "b4d2bdd7-320d-4b85-bc76-5a6cfd4efcdc",
   "metadata": {},
   "source": [
    "8. How do you tell the difference between read() and readlines()?\n",
    "ans:Both read and readlines are used to read data from the file of an object.When you call read() without any arguments, it reads the entire contents of the file and returns them as a single string.Readlines  reads the entire content of the file and returns a list of strings, where each string represents a line from the file. The newline (\\n) characters at the end of each line are included in the strings.\n"
   ]
  },
  {
   "cell_type": "code",
   "execution_count": null,
   "id": "abb6ffd9-db27-4a84-8a33-dbb20d50a5aa",
   "metadata": {},
   "outputs": [],
   "source": []
  }
 ],
 "metadata": {
  "kernelspec": {
   "display_name": "Python 3 (ipykernel)",
   "language": "python",
   "name": "python3"
  },
  "language_info": {
   "codemirror_mode": {
    "name": "ipython",
    "version": 3
   },
   "file_extension": ".py",
   "mimetype": "text/x-python",
   "name": "python",
   "nbconvert_exporter": "python",
   "pygments_lexer": "ipython3",
   "version": "3.10.6"
  }
 },
 "nbformat": 4,
 "nbformat_minor": 5
}
