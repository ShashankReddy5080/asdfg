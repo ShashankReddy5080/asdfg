{
 "cells": [
  {
   "cell_type": "raw",
   "id": "7c71314e-c0a6-4874-bb05-796b2890ccb2",
   "metadata": {},
   "source": [
    " 1.Write a Python program to check if the given number is a Disarium Number?"
   ]
  },
  {
   "cell_type": "code",
   "execution_count": 8,
   "id": "41d9e4aa-2361-44b4-b276-41da3c0f3ca5",
   "metadata": {},
   "outputs": [
    {
     "name": "stdin",
     "output_type": "stream",
     "text": [
      " 89\n"
     ]
    },
    {
     "name": "stdout",
     "output_type": "stream",
     "text": [
      "disarium number\n"
     ]
    }
   ],
   "source": [
    "num=int(input())\n",
    "num_str=str(num)\n",
    "length=len(num_str)\n",
    "sum_of_powers=0\n",
    "for i in range(length):\n",
    "    digit=int(num_str[i])\n",
    "    sum_of_powers+=digit**(i+1)\n",
    "    \n",
    "if sum_of_powers==num:\n",
    "    print(\"disarium number\")\n",
    "else:\n",
    "    print(\"not a disrium number\")"
   ]
  },
  {
   "cell_type": "raw",
   "id": "e031624c-f915-4bac-ac29-c006dfbc15cd",
   "metadata": {},
   "source": [
    "2. Write a Python program to print all disarium numbers between 1 to 100?"
   ]
  },
  {
   "cell_type": "code",
   "execution_count": 9,
   "id": "b7422606-16b0-4f36-9241-1952357d7b8e",
   "metadata": {},
   "outputs": [
    {
     "name": "stdout",
     "output_type": "stream",
     "text": [
      "Disarium numbers between 1 to 100:\n",
      "1\n",
      "2\n",
      "3\n",
      "4\n",
      "5\n",
      "6\n",
      "7\n",
      "8\n",
      "9\n",
      "89\n"
     ]
    }
   ],
   "source": [
    "def is_disarium(number):\n",
    "    num_str = str(number)\n",
    "    length = len(num_str)\n",
    "    sum_of_powers = 0\n",
    "    for i in range(length):\n",
    "        digit = int(num_str[i])\n",
    "        sum_of_powers += digit ** (i + 1)\n",
    "    return sum_of_powers == number\n",
    "print(\"Disarium numbers between 1 to 100:\")\n",
    "for num in range(1, 101):\n",
    "    if is_disarium(num):\n",
    "        print(num)\n",
    "\n",
    "\n"
   ]
  },
  {
   "cell_type": "raw",
   "id": "cbe776ec-1b46-4775-93cb-612568965d6d",
   "metadata": {},
   "source": [
    "3. Write a Python program to check if the given number is Happy Number?"
   ]
  },
  {
   "cell_type": "code",
   "execution_count": 10,
   "id": "eb4fc06e-c8ba-45fd-a0b7-44ddf9af8eca",
   "metadata": {},
   "outputs": [
    {
     "name": "stdin",
     "output_type": "stream",
     "text": [
      "Enter a number to check if it's a Happy number:  67\n"
     ]
    },
    {
     "name": "stdout",
     "output_type": "stream",
     "text": [
      "67 is not a Happy number.\n"
     ]
    }
   ],
   "source": [
    "def is_happy_number(number):\n",
    "    def get_next_number(n):\n",
    "        # Helper function to compute the sum of squares of digits\n",
    "        result = 0\n",
    "        while n > 0:\n",
    "            digit = n % 10\n",
    "            result += digit * digit\n",
    "            n //= 10\n",
    "        return result\n",
    "\n",
    "    slow = number\n",
    "    fast = get_next_number(number)\n",
    "\n",
    "    while fast != 1 and slow != fast:\n",
    "        slow = get_next_number(slow)\n",
    "        fast = get_next_number(get_next_number(fast))\n",
    "\n",
    "    return fast == 1\n",
    "\n",
    "# Example usage\n",
    "number = int(input(\"Enter a number to check if it's a Happy number: \"))\n",
    "\n",
    "if is_happy_number(number):\n",
    "    print(number, \"is a Happy number.\")\n",
    "else:\n",
    "    print(number, \"is not a Happy number.\")\n"
   ]
  },
  {
   "cell_type": "raw",
   "id": "295ed4b0-2905-470f-86f0-3054f64ff847",
   "metadata": {},
   "source": [
    "4. Write a Python program to print all happy numbers between 1 and 100?"
   ]
  },
  {
   "cell_type": "code",
   "execution_count": 11,
   "id": "ce1c51aa-e7f2-4291-b87a-55d455e9698a",
   "metadata": {},
   "outputs": [
    {
     "name": "stdout",
     "output_type": "stream",
     "text": [
      "Happy numbers between 1 to 100:\n",
      "1\n",
      "7\n",
      "10\n",
      "13\n",
      "19\n",
      "23\n",
      "28\n",
      "31\n",
      "32\n",
      "44\n",
      "49\n",
      "68\n",
      "70\n",
      "79\n",
      "82\n",
      "86\n",
      "91\n",
      "94\n",
      "97\n",
      "100\n"
     ]
    }
   ],
   "source": [
    "def is_happy_number(number):\n",
    "    def get_next_number(n):\n",
    "        # Helper function to compute the sum of squares of digits\n",
    "        result = 0\n",
    "        while n > 0:\n",
    "            digit = n % 10\n",
    "            result += digit * digit\n",
    "            n //= 10\n",
    "        return result\n",
    "\n",
    "    slow = number\n",
    "    fast = get_next_number(number)\n",
    "\n",
    "    while fast != 1 and slow != fast:\n",
    "        slow = get_next_number(slow)\n",
    "        fast = get_next_number(get_next_number(fast))\n",
    "\n",
    "    return fast == 1\n",
    "\n",
    "# Find and print Happy numbers between 1 to 100\n",
    "print(\"Happy numbers between 1 to 100:\")\n",
    "for num in range(1, 101):\n",
    "    if is_happy_number(num):\n",
    "        print(num)\n"
   ]
  },
  {
   "cell_type": "raw",
   "id": "dc774e70-8c53-4597-a132-b2773769e75d",
   "metadata": {},
   "source": [
    "5. Write a Python program to determine whether the given number is a Harshad Number?"
   ]
  },
  {
   "cell_type": "code",
   "execution_count": null,
   "id": "c63ca668-5944-4a52-b0ce-4c4ef6bdb8e1",
   "metadata": {},
   "outputs": [],
   "source": []
  }
 ],
 "metadata": {
  "kernelspec": {
   "display_name": "Python 3 (ipykernel)",
   "language": "python",
   "name": "python3"
  },
  "language_info": {
   "codemirror_mode": {
    "name": "ipython",
    "version": 3
   },
   "file_extension": ".py",
   "mimetype": "text/x-python",
   "name": "python",
   "nbconvert_exporter": "python",
   "pygments_lexer": "ipython3",
   "version": "3.10.8"
  }
 },
 "nbformat": 4,
 "nbformat_minor": 5
}
