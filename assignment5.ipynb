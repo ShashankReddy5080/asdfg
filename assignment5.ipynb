{
 "cells": [
  {
   "cell_type": "raw",
   "id": "da7be8ff-96b0-40c3-816c-5784bc1915e3",
   "metadata": {},
   "source": [
    "1. What does an empty dictionary's code look like?\n",
    "ans: In pyhton an empty dictionary is denoted by curly braces{}.ex:dict={}"
   ]
  },
  {
   "cell_type": "raw",
   "id": "919d838c-7098-40db-bc02-092aeb5258b5",
   "metadata": {},
   "source": [
    "2. What is the value of a dictionary value with the key 'foo' and the value 42?\n",
    "ans:dict={'foo':42}"
   ]
  },
  {
   "cell_type": "raw",
   "id": "45de137e-3c5d-40da-a893-062e66642023",
   "metadata": {},
   "source": [
    "3. What is the most significant distinction between a dictionary and a list?\n",
    "ans:Lists are stored in asequence and dictionaries are not.Dictionaries are accessed by their keys and lists are accessed by indexing."
   ]
  },
  {
   "cell_type": "raw",
   "id": "214dcd4f-8470-4b72-99d1-32335a1ed8d0",
   "metadata": {},
   "source": [
    "4. What happens if you try to access spam['foo'] if spam is {'bar': 100}?\n",
    "ans:If we try to access spam['foo'] if spam is {'bar':100} there will be a key error."
   ]
  },
  {
   "cell_type": "raw",
   "id": "1a494781-c05d-453a-83a7-0dc6e02fc297",
   "metadata": {},
   "source": [
    "5. If a dictionary is stored in spam, what is the difference between the expressions 'cat' in spam and 'cat' in spam.keys()?"
   ]
  },
  {
   "cell_type": "code",
   "execution_count": null,
   "id": "863295b8-bcbf-48b8-982d-543b73db9cba",
   "metadata": {},
   "outputs": [],
   "source": []
  },
  {
   "cell_type": "raw",
   "id": "c8f5ee0f-f62e-46ae-9448-54d161e77d96",
   "metadata": {},
   "source": [
    "7. What is a shortcut for the following code?\n",
    "if 'color' not in spam:\n",
    "spam['color'] = 'black'\n",
    "ans:spam.setdefault('colour','black')\n"
   ]
  },
  {
   "cell_type": "code",
   "execution_count": null,
   "id": "47302410-a25d-4529-a082-cec9f16fe9e6",
   "metadata": {},
   "outputs": [],
   "source": []
  },
  {
   "cell_type": "code",
   "execution_count": null,
   "id": "5350f23f-f47b-4cd9-89b6-66a29b68278d",
   "metadata": {},
   "outputs": [],
   "source": []
  },
  {
   "cell_type": "code",
   "execution_count": null,
   "id": "834135ae-bada-4f4c-b133-b554b843cba5",
   "metadata": {},
   "outputs": [],
   "source": []
  },
  {
   "cell_type": "code",
   "execution_count": null,
   "id": "9fdf42dc-f41a-4bc1-a88d-b21f4a9bbf50",
   "metadata": {},
   "outputs": [],
   "source": []
  },
  {
   "cell_type": "code",
   "execution_count": null,
   "id": "52056e6c-b76e-4302-9e4f-a1e0a7e793f5",
   "metadata": {},
   "outputs": [],
   "source": []
  }
 ],
 "metadata": {
  "kernelspec": {
   "display_name": "Python 3 (ipykernel)",
   "language": "python",
   "name": "python3"
  },
  "language_info": {
   "codemirror_mode": {
    "name": "ipython",
    "version": 3
   },
   "file_extension": ".py",
   "mimetype": "text/x-python",
   "name": "python",
   "nbconvert_exporter": "python",
   "pygments_lexer": "ipython3",
   "version": "3.10.6"
  }
 },
 "nbformat": 4,
 "nbformat_minor": 5
}
