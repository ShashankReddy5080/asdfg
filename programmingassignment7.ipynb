{
 "cells": [
  {
   "cell_type": "raw",
   "id": "91f58800-98ea-4271-8a05-2ed6b4e102c6",
   "metadata": {},
   "source": [
    "1. Write a Python Program to find sum of array?"
   ]
  },
  {
   "cell_type": "code",
   "execution_count": 1,
   "id": "8a9dc73f-3804-4d9e-8f32-66eaf922fb3a",
   "metadata": {},
   "outputs": [
    {
     "name": "stdin",
     "output_type": "stream",
     "text": [
      "Enter the size of the array:  6\n",
      "Enter element 1:  3\n",
      "Enter element 2:  5\n",
      "Enter element 3:  7\n",
      "Enter element 4:  8\n",
      "Enter element 5:  9\n",
      "Enter element 6:  0\n"
     ]
    },
    {
     "name": "stdout",
     "output_type": "stream",
     "text": [
      "The sum of the array is: 32\n"
     ]
    }
   ],
   "source": [
    "n = int(input(\"Enter the size of the array: \"))\n",
    "arr = [int(input(f\"Enter element {i + 1}: \")) for i in range(n)]\n",
    "sum_of_array = sum(arr)\n",
    "print(\"The sum of the array is:\", sum_of_array)\n"
   ]
  },
  {
   "cell_type": "raw",
   "id": "cb11ef81-447a-4380-9286-ee968fa793ba",
   "metadata": {},
   "source": [
    "2. Write a Python Program to find largest element in an array?"
   ]
  },
  {
   "cell_type": "code",
   "execution_count": 2,
   "id": "a7d673b7-2b3e-44ed-b6ce-01dc19c1b847",
   "metadata": {},
   "outputs": [
    {
     "name": "stdin",
     "output_type": "stream",
     "text": [
      "Enter the size of the array:  3\n",
      "Enter element 1:  1\n",
      "Enter element 2:  2\n",
      "Enter element 3:  3\n"
     ]
    },
    {
     "name": "stdout",
     "output_type": "stream",
     "text": [
      "The largest element of the array is: 3\n"
     ]
    }
   ],
   "source": [
    "n = int(input(\"Enter the size of the array: \"))\n",
    "arr = [int(input(f\"Enter element {i + 1}: \")) for i in range(n)]\n",
    "largest_of_array = max(arr)\n",
    "print(\"The largest element of the array is:\", largest_of_array)"
   ]
  },
  {
   "cell_type": "raw",
   "id": "b2160390-2276-4ed8-808e-ddd23013252e",
   "metadata": {},
   "source": [
    "3. Write a Python Program for array rotation?"
   ]
  },
  {
   "cell_type": "code",
   "execution_count": 4,
   "id": "83bb2c61-28f1-4788-a76f-fc41fd3c66ce",
   "metadata": {},
   "outputs": [
    {
     "name": "stdin",
     "output_type": "stream",
     "text": [
      "Enter the size of the array:  7\n",
      "Enter element 1:  78\n",
      "Enter element 2:  98\n",
      "Enter element 3:  09\n",
      "Enter element 4:  76\n",
      "Enter element 5:  69\n",
      "Enter element 6:  71\n",
      "Enter element 7:  22\n",
      "Enter the number of positions to rotate the array to the right:  5\n"
     ]
    },
    {
     "name": "stdout",
     "output_type": "stream",
     "text": [
      "Array after rotation: [9, 76, 69, 71, 22, 78, 98]\n"
     ]
    }
   ],
   "source": [
    "n = int(input(\"Enter the size of the array: \"))\n",
    "arr = [int(input(f\"Enter element {i + 1}: \")) for i in range(n)]\n",
    "k = int(input(\"Enter the number of positions to rotate the array to the right: \"))\n",
    "n = len(arr)\n",
    "rotated_array = arr[-k:] + arr[:-k]\n",
    "print(\"Array after rotation:\", rotated_array)\n"
   ]
  },
  {
   "cell_type": "raw",
   "id": "21129959-83f0-48d8-ae04-1f0d9c9b6d9b",
   "metadata": {},
   "source": [
    "4. Write a Python Program to Split the array and add the first part to the end?"
   ]
  },
  {
   "cell_type": "code",
   "execution_count": null,
   "id": "65d80142-9e80-4be2-b768-fcde4ad07b5b",
   "metadata": {},
   "outputs": [],
   "source": [
    "\n",
    "n = int(input(\"Enter the size of the array: \"))\n",
    "arr = [int(input(f\"Enter element {i + 1}: \")) for i in range(n)]\n",
    "k = int(input(\"Enter the position to split the array: \"))\n",
    "if 0 < k < n:\n",
    "    split_array = arr[k:]\n",
    "    split_array.extend(arr[:k])\n",
    "    print(\"Array after splitting and adding the first part to the end:\", split_array)\n",
    "else:\n",
    "    print(\"Invalid split position. Please enter a position between 1 and\", n - 1)\n"
   ]
  },
  {
   "cell_type": "raw",
   "id": "53f5a7c8-b549-4994-adbc-6d53b9288716",
   "metadata": {},
   "source": [
    "5. Write a Python Program to check if given array is Monotonic?"
   ]
  },
  {
   "cell_type": "code",
   "execution_count": null,
   "id": "19d3b822-9584-4a4b-8136-01a031427999",
   "metadata": {},
   "outputs": [],
   "source": [
    "\n",
    "n = int(input(\"Enter the size of the array: \"))\n",
    "arr = [int(input(f\"Enter element {i + 1}: \")) for i in range(n)]\n",
    "increasing = decreasing = True\n",
    "for i in range(1, len(arr)):\n",
    "    if arr[i] > arr[i - 1]:\n",
    "        decreasing = False\n",
    "    elif arr[i] < arr[i - 1]:\n",
    "        increasing = False\n",
    "if increasing or decreasing:\n",
    "    print(\"The given array is monotonic.\")\n",
    "else:\n",
    "    print(\"The given array is not monotonic.\")\n"
   ]
  }
 ],
 "metadata": {
  "kernelspec": {
   "display_name": "Python 3 (ipykernel)",
   "language": "python",
   "name": "python3"
  },
  "language_info": {
   "codemirror_mode": {
    "name": "ipython",
    "version": 3
   },
   "file_extension": ".py",
   "mimetype": "text/x-python",
   "name": "python",
   "nbconvert_exporter": "python",
   "pygments_lexer": "ipython3",
   "version": "3.10.6"
  }
 },
 "nbformat": 4,
 "nbformat_minor": 5
}
