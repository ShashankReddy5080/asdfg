{
 "cells": [
  {
   "cell_type": "raw",
   "id": "3ff2afa5-b727-4aca-9911-cd40bfa76f8e",
   "metadata": {},
   "source": [
    "Write a program that calculates and prints the value according to the given formula:\n",
    "Q = Square root of [(2 * C * D)/H]\n",
    "Following are the fixed values of C and H:\n",
    "C is 50. H is 30.\n",
    "D is the variable whose values should be input to your program in a comma-separated\n",
    "sequence.\n",
    "Example\n",
    "Let us assume the following comma separated input sequence is given to the program:\n",
    "100,150,180\n",
    "The output of the program should be:\n",
    "18,22,24"
   ]
  },
  {
   "cell_type": "code",
   "execution_count": 11,
   "id": "91257a70-cd24-4f85-81ef-e69894c6ce49",
   "metadata": {},
   "outputs": [
    {
     "name": "stdin",
     "output_type": "stream",
     "text": [
      "Enter the comma-separated sequence of D values:  12,34,54\n"
     ]
    },
    {
     "name": "stdout",
     "output_type": "stream",
     "text": [
      "Output of the program:\n",
      "6,10,13\n"
     ]
    }
   ],
   "source": [
    "import math\n",
    "\n",
    "def calculate_Q(D_values, C=50, H=30):\n",
    "    Q_values = []\n",
    "    for D in D_values:\n",
    "        Q = math.sqrt((2 * C * D) / H)\n",
    "        Q_values.append(int(Q))\n",
    "    return Q_values\n",
    "input_sequence = input(\"Enter the comma-separated sequence of D values: \")\n",
    "D_values = [int(x) for x in input_sequence.split(',')]\n",
    "Q_values = calculate_Q(D_values)\n",
    "print(\"Output of the program:\")\n",
    "print(\",\".join(map(str, Q_values)))\n",
    "\n",
    "\n",
    "\n",
    "\n"
   ]
  },
  {
   "cell_type": "raw",
   "id": "2ee3d25b-7290-4a6c-b143-71d26502d959",
   "metadata": {},
   "source": [
    "Write a program which takes 2 digits, X,Y as input and generates a 2-dimensional array. The\n",
    "element value in the i-th row and j-th column of the array should be i*j.\n",
    "Note: i=0,1.., X-1; j=0,1,¡Y-1.\n",
    "Example\n",
    "Suppose the following inputs are given to the program:\n",
    "3,5\n",
    "Then, the output of the program should be:\n",
    "[[0, 0, 0, 0, 0], [0, 1, 2, 3, 4], [0, 2, 4, 6, 8]]"
   ]
  },
  {
   "cell_type": "code",
   "execution_count": 13,
   "id": "04db7537-2dd6-4f3f-bc58-229180a6fdc7",
   "metadata": {},
   "outputs": [
    {
     "name": "stdin",
     "output_type": "stream",
     "text": [
      "Enter two digits X, Y separated by comma:  3,6\n"
     ]
    },
    {
     "name": "stdout",
     "output_type": "stream",
     "text": [
      "Output of the program:\n",
      "[0, 0, 0, 0, 0, 0]\n",
      "[0, 1, 2, 3, 4, 5]\n",
      "[0, 2, 4, 6, 8, 10]\n"
     ]
    }
   ],
   "source": [
    "def generate_2darray(X,Y):\n",
    "    result=[]\n",
    "    for i in range(X):\n",
    "        row=[]\n",
    "        for j in range(Y):\n",
    "            element = i*j\n",
    "            row.append(element)\n",
    "        result.append(row)\n",
    "    return  result\n",
    "X, Y = map(int, input(\"Enter two digits X, Y separated by comma: \").split(','))\n",
    "array_2d = generate_2darray(X, Y)\n",
    "print(\"Output of the program:\")\n",
    "for row in array_2d:\n",
    "    print(row)\n"
   ]
  },
  {
   "cell_type": "raw",
   "id": "507ba7bf-75a4-4e20-9ae6-09a2ff5b02ea",
   "metadata": {},
   "source": [
    "Write a program that accepts a comma separated sequence of words as input and prints the\n",
    "words in a comma-separated sequence after sorting them alphabetically."
   ]
  },
  {
   "cell_type": "code",
   "execution_count": 16,
   "id": "746a0742-125d-4d35-92f7-0f122ce01949",
   "metadata": {},
   "outputs": [
    {
     "name": "stdin",
     "output_type": "stream",
     "text": [
      "enter comma seperated words peggu,chinni,shashank,manya\n"
     ]
    },
    {
     "name": "stdout",
     "output_type": "stream",
     "text": [
      "chinni,manya,peggu,shashank\n"
     ]
    }
   ],
   "source": [
    "input_sequence=input(\"enter comma seperated words\")\n",
    "words=(word.strip() for word in input_sequence.split(','))\n",
    "sorted_words=sorted(words)\n",
    "sorted_sequence=\",\".join(sorted_words)\n",
    "print(sorted_sequence)\n",
    "\n"
   ]
  },
  {
   "cell_type": "raw",
   "id": "bfa1474b-6926-4e37-8f71-96ba776eeb28",
   "metadata": {},
   "source": [
    "Write a program that accepts a sequence of whitespace separated words as input and prints\n",
    "the words after removing all duplicate words and sorting them alphanumerically.\n"
   ]
  },
  {
   "cell_type": "code",
   "execution_count": 35,
   "id": "b2626939-bedf-4785-b40a-4464d4d5fe4d",
   "metadata": {},
   "outputs": [
    {
     "name": "stdin",
     "output_type": "stream",
     "text": [
      "Enter a sequence of whitespace-separated words:  shashank is a good boy says shashank\n"
     ]
    },
    {
     "name": "stdout",
     "output_type": "stream",
     "text": [
      "Sorted sequence of words after removing duplicates:\n",
      "a boy good is says shashank\n"
     ]
    }
   ],
   "source": [
    "input_sequence = input(\"Enter a sequence of whitespace-separated words: \")\n",
    "words = set(input_sequence.split())\n",
    "sorted_words = sorted(words)\n",
    "print(\"Sorted sequence of words after removing duplicates:\")\n",
    "print(' '.join(sorted_words))\n"
   ]
  },
  {
   "cell_type": "raw",
   "id": "4b32b511-9bbd-4d10-8319-07017ced69ad",
   "metadata": {},
   "source": [
    "Write a program that accepts a sentence and calculate the number of letters and digits."
   ]
  },
  {
   "cell_type": "code",
   "execution_count": 43,
   "id": "137f5726-d6b2-4218-a3e7-768bf5d7d8e2",
   "metadata": {},
   "outputs": [
    {
     "name": "stdin",
     "output_type": "stream",
     "text": [
      "enter a sentence shashank5080\n"
     ]
    },
    {
     "name": "stdout",
     "output_type": "stream",
     "text": [
      "digits,letters: 4 8\n"
     ]
    }
   ],
   "source": [
    "inpu=input(\"enter a sentence\")\n",
    "digits=0\n",
    "letters=0\n",
    "for char in inpu:\n",
    "    if char.isalpha():\n",
    "        letters+=1\n",
    "    elif char.isdigit():\n",
    "        digits+=1\n",
    "print(\"digits,letters:\",digits,letters)"
   ]
  },
  {
   "cell_type": "raw",
   "id": "8f865eac-beb9-4b5d-b546-343e16efd2c8",
   "metadata": {},
   "source": [
    "A website requires the users to input username and password to register. Write a program to\n",
    "check the validity of password input by users.\n",
    "Following are the criteria for checking the password:\n",
    "1. At least 1 letter between [a-z]\n",
    "2. At least 1 number between [0-9]\n",
    "1. At least 1 letter between [A-Z]\n",
    "3. At least 1 character from [$#@]\n",
    "4. Minimum length of transaction password: 6\n",
    "5. Maximum length of transaction password: 12\n",
    "Your program should accept a sequence of comma separated passwords and will check them\n",
    "according to the above criteria. Passwords that match the criteria are to be printed, each\n",
    "separated by a comma."
   ]
  },
  {
   "cell_type": "code",
   "execution_count": 48,
   "id": "509f9cd0-f654-48e7-92b3-fc8254a2b326",
   "metadata": {},
   "outputs": [
    {
     "name": "stdin",
     "output_type": "stream",
     "text": [
      "Enter a sequence of comma-separated passwords:  zasdfg&67,jhgfd6&\n"
     ]
    },
    {
     "name": "stdout",
     "output_type": "stream",
     "text": [
      "Valid passwords: \n"
     ]
    }
   ],
   "source": [
    "import re\n",
    "\n",
    "def check_password(password):\n",
    "    lowercase_regex = re.compile(r'[a-z]')\n",
    "    uppercase_regex = re.compile(r'[A-Z]')\n",
    "    digit_regex = re.compile(r'[0-9]')\n",
    "    special_char_regex = re.compile(r'[$#@]')\n",
    "    if len(password) < 6 or len(password) > 12:\n",
    "        return False\n",
    "    if (lowercase_regex.search(password) and\n",
    "        uppercase_regex.search(password) and\n",
    "        digit_regex.search(password) and\n",
    "        special_char_regex.search(password)):\n",
    "        return True\n",
    "    else:\n",
    "        return False\n",
    "passwords = input(\"Enter a sequence of comma-separated passwords: \").split(',')\n",
    "valid_passwords = [password for password in passwords if check_password(password)]\n",
    "print(\"Valid passwords:\", ', '.join(valid_passwords))\n"
   ]
  },
  {
   "cell_type": "code",
   "execution_count": null,
   "id": "c4e1bf6e-ace5-4e93-a29c-d61e48dec557",
   "metadata": {},
   "outputs": [],
   "source": []
  }
 ],
 "metadata": {
  "kernelspec": {
   "display_name": "Python 3 (ipykernel)",
   "language": "python",
   "name": "python3"
  },
  "language_info": {
   "codemirror_mode": {
    "name": "ipython",
    "version": 3
   },
   "file_extension": ".py",
   "mimetype": "text/x-python",
   "name": "python",
   "nbconvert_exporter": "python",
   "pygments_lexer": "ipython3",
   "version": "3.10.8"
  }
 },
 "nbformat": 4,
 "nbformat_minor": 5
}
