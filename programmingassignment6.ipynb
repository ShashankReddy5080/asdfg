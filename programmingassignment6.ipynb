{
 "cells": [
  {
   "cell_type": "raw",
   "id": "61a07a58-7c1d-4251-a449-27d6f4b18cdf",
   "metadata": {},
   "source": [
    "1. Write a Python Program to Display Fibonacci Sequence Using Recursion?"
   ]
  },
  {
   "cell_type": "code",
   "execution_count": null,
   "id": "461e4f71-5b20-4ac8-90c1-4f9b5da34520",
   "metadata": {},
   "outputs": [],
   "source": [
    "def fibonacci(n):\n",
    "    if n <= 0:\n",
    "        return []\n",
    "    elif n == 1:\n",
    "        return [0]\n",
    "    elif n == 2:\n",
    "        return [0, 1]\n",
    "    else:\n",
    "        fib_sequence = fibonacci(n - 1)\n",
    "        fib_sequence.append(fib_sequence[-1] + fib_sequence[-2])\n",
    "        return fib_sequence\n",
    "num_terms = int(input(\"Enter the number of terms in the Fibonacci sequence: \"))\n",
    "if num_terms <= 0 or not isinstance(num_terms, int):\n",
    "    print(\"Please enter a positive integer.\")\n",
    "else:\n",
    "    fib_sequence = fibonacci(num_terms)\n",
    "    print(f\"Fibonacci sequence with {num_terms} terms:\")\n",
    "    print(fib_sequence)\n"
   ]
  },
  {
   "cell_type": "raw",
   "id": "5e4b12ec-cea9-43f2-a6bd-590a1bfe3e3c",
   "metadata": {},
   "source": [
    "2. Write a Python Program to Find Factorial of Number Using Recursion?"
   ]
  },
  {
   "cell_type": "code",
   "execution_count": null,
   "id": "c0fd84d3-0cce-4c3b-a39f-4ed9710f7da5",
   "metadata": {},
   "outputs": [],
   "source": [
    "def factorial(n):\n",
    "    if n == 0 or n == 1:\n",
    "        return 1\n",
    "    else:\n",
    "        return n * factorial(n - 1)\n",
    "number = int(input(\"Enter a number to find its factorial: \"))\n",
    "if number < 0:\n",
    "    print(\"Factorial is not defined for negative numbers.\")\n",
    "elif not isinstance(number, int):\n",
    "    print(\"Please enter a non-negative integer.\")\n",
    "else:\n",
    "    result = factorial(number)\n",
    "    print(f\"The factorial of {number} is {result}.\")\n"
   ]
  },
  {
   "cell_type": "raw",
   "id": "d0ff79c7-a6b3-48c4-8c00-00a9cc9b9023",
   "metadata": {},
   "source": [
    "3. Write a Python Program to calculate your Body Mass Index?"
   ]
  },
  {
   "cell_type": "code",
   "execution_count": null,
   "id": "e3ca8602-2851-40b4-9060-96c3cf893ed2",
   "metadata": {},
   "outputs": [],
   "source": [
    "weight=float(input(\"enter weight in kg:\"))\n",
    "height=float(input(\"enter height in meters\"))\n",
    "bmi=(weight/height*2*2)\n",
    "print(bmi)\n"
   ]
  },
  {
   "cell_type": "raw",
   "id": "90937b0e-e358-45a1-b78f-9dc0d1486736",
   "metadata": {},
   "source": [
    "4. Write a Python Program to calculate the natural logarithm of any number?"
   ]
  },
  {
   "cell_type": "code",
   "execution_count": null,
   "id": "6e6cc2cd-57b6-4f6d-8745-9261efca520d",
   "metadata": {},
   "outputs": [],
   "source": [
    "import math\n",
    "nummber=float(input(\"enter a number\"))\n",
    "if nummber >0:\n",
    "    print(math.log(nummber))\n",
    "else:\n",
    "    print(\"enter a positive number\")\n"
   ]
  },
  {
   "cell_type": "raw",
   "id": "fb92de42-2709-47b2-a245-031f4c0484bc",
   "metadata": {},
   "source": [
    "5. Write a Python Program for cube sum of first n natural numbers?"
   ]
  },
  {
   "cell_type": "code",
   "execution_count": null,
   "id": "b780a6cf-5384-448f-aa4d-ca060e8fb012",
   "metadata": {},
   "outputs": [],
   "source": [
    "n=int(input(\"enter a natural number\"))\n",
    "print(\"cube sum of n natural numbers is:\",(n**2*(n+1)**2)/4)"
   ]
  },
  {
   "cell_type": "code",
   "execution_count": null,
   "id": "c0937d43-fe6d-4e4a-8c22-78cc5c992fd1",
   "metadata": {},
   "outputs": [],
   "source": []
  }
 ],
 "metadata": {
  "kernelspec": {
   "display_name": "Python 3 (ipykernel)",
   "language": "python",
   "name": "python3"
  },
  "language_info": {
   "codemirror_mode": {
    "name": "ipython",
    "version": 3
   },
   "file_extension": ".py",
   "mimetype": "text/x-python",
   "name": "python",
   "nbconvert_exporter": "python",
   "pygments_lexer": "ipython3",
   "version": "3.10.6"
  }
 },
 "nbformat": 4,
 "nbformat_minor": 5
}
