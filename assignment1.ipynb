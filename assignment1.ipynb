{
 "cells": [
  {
   "cell_type": "raw",
   "id": "2f53dd17-7b5e-4511-8a6d-d1a8d1425e3e",
   "metadata": {},
   "source": [
    "1. In the below elements which of them are values or an expression? eg:- values can be\n",
    "integer or string and expressions will be mathematical operators.\n",
    "*\n",
    "'hello'\n",
    "-87.8\n",
    "-\n",
    "/\n",
    "+\n",
    "6\n",
    "ans: expressions are /,+,-,*,whereas values are 'hello',-87.8,6"
   ]
  },
  {
   "cell_type": "raw",
   "id": "87338592-d43a-4f0a-be9a-ef685f959dd9",
   "metadata": {},
   "source": [
    "2.What is the difference between string and variable?\n",
    "ans:A string is a datatype whereas a variable is the name given to a value"
   ]
  },
  {
   "cell_type": "raw",
   "id": "2d3d9cb3-4e5d-4ca1-ad6e-e7d29acaba87",
   "metadata": {},
   "source": [
    "3.Describe three different data types.\n",
    "ans:FLOAT:\n",
    "    Float is a floating point number i.e decimal numbers\n",
    "    INTEGER:\n",
    "    Integers are collection of positive and negative numbers\n",
    "    STRING:\n",
    "    Strings are a datatype that contains only alphabetsoralphanumeric values"
   ]
  },
  {
   "cell_type": "raw",
   "id": "9b4ef4b4-3add-4aac-888d-7270d9d8ddc0",
   "metadata": {},
   "source": [
    "4. What is an expression made up of? What do all expressions do?\n",
    "ans:An expression consists of operators and operands.Operators are +,-,/,* whereas operands is the data that performs operations with the help of operands.\n",
    "An expression :performs operations,evaluate to a value,provide a result"
   ]
  },
  {
   "cell_type": "raw",
   "id": "01cf89b3-98cf-4615-9ddc-cb639886954c",
   "metadata": {},
   "source": [
    "5. This assignment statements, like spam = 10. What is the difference between an\n",
    "expression and a statement?\n",
    "ans:An expression is piece of code that performs operations. A statement is a complete line of code that can contains expression."
   ]
  },
  {
   "cell_type": "raw",
   "id": "f033b6a8-e7ee-4853-a60b-8526a8778ae9",
   "metadata": {},
   "source": [
    "6. After running the following code, what does the variable bacon contain?\n",
    "bacon = 22\n",
    "bacon + 1"
   ]
  },
  {
   "cell_type": "code",
   "execution_count": 1,
   "id": "62b108db-37d6-4654-b0be-9abd60da5772",
   "metadata": {},
   "outputs": [
    {
     "data": {
      "text/plain": [
       "23"
      ]
     },
     "execution_count": 1,
     "metadata": {},
     "output_type": "execute_result"
    }
   ],
   "source": [
    "bacon=22\n",
    "bacon+1"
   ]
  },
  {
   "cell_type": "raw",
   "id": "f90468d7-afab-4518-ae57-e19505a9a2e3",
   "metadata": {},
   "source": [
    "7. What should the values of the following two terms be?\n",
    "'spam'+'spamspam'\n",
    "'spam'*3"
   ]
  },
  {
   "cell_type": "code",
   "execution_count": 3,
   "id": "c2549294-0478-4ae3-af3e-c1b2db959f76",
   "metadata": {},
   "outputs": [
    {
     "data": {
      "text/plain": [
       "'spamspamspam'"
      ]
     },
     "execution_count": 3,
     "metadata": {},
     "output_type": "execute_result"
    }
   ],
   "source": [
    "'spam'+'spamspam'\n",
    "'spam'*3"
   ]
  },
  {
   "cell_type": "raw",
   "id": "87b81818-e081-432f-8651-3f1df107e54e",
   "metadata": {},
   "source": [
    "8. Why is eggs a valid variable name while 100 is invalid?\n",
    "ans:A variable name should can contain alphabets,special characters,numbers but the numbers and special characters should not be at the beginning of the variable name.So eggs is a valid variable name and 100 is not."
   ]
  },
  {
   "cell_type": "raw",
   "id": "2b58b22e-66a4-4e6f-9b0d-b4ef76477796",
   "metadata": {},
   "source": [
    "9. What three functions can be used to get the integer, floating-point number, or string\n",
    "version of a value?\n",
    "ans:int,float,str"
   ]
  },
  {
   "cell_type": "raw",
   "id": "a4bc4463-c2b9-41cb-ad36-996e13c6689a",
   "metadata": {},
   "source": [
    "10. Why does this expression cause an error? How can you fix it?\n",
    "'I have eaten'+ 99 +'burritos'.\n",
    "ans;'I have eaten'+ 99 +'burritos'\n",
    "The error can be fixed by adding inverted commas to 99 as an integer cannot be concatenated with a string.\n",
    "'I have eaten'+ '99' +'burritos'"
   ]
  },
  {
   "cell_type": "code",
   "execution_count": null,
   "id": "c099f714-dc4d-4b67-a32d-dbdd83f6e6a3",
   "metadata": {},
   "outputs": [],
   "source": []
  },
  {
   "cell_type": "code",
   "execution_count": null,
   "id": "68289aaf-9d93-4696-9373-e525e9a263ae",
   "metadata": {},
   "outputs": [],
   "source": []
  },
  {
   "cell_type": "code",
   "execution_count": null,
   "id": "707c8c7a-48c6-4a8a-b9e1-ba6e60b4466f",
   "metadata": {},
   "outputs": [],
   "source": []
  }
 ],
 "metadata": {
  "kernelspec": {
   "display_name": "Python 3 (ipykernel)",
   "language": "python",
   "name": "python3"
  },
  "language_info": {
   "codemirror_mode": {
    "name": "ipython",
    "version": 3
   },
   "file_extension": ".py",
   "mimetype": "text/x-python",
   "name": "python",
   "nbconvert_exporter": "python",
   "pygments_lexer": "ipython3",
   "version": "3.10.6"
  }
 },
 "nbformat": 4,
 "nbformat_minor": 5
}
