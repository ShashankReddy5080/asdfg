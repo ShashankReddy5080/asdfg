{
 "cells": [
  {
   "cell_type": "raw",
   "id": "1b6135fb-5451-478e-bb8b-3da1e0ff8067",
   "metadata": {},
   "source": [
    "1. Write a Python Program to Find the Factorial of a Number?"
   ]
  },
  {
   "cell_type": "code",
   "execution_count": 1,
   "id": "12d9616e-b0db-4ee4-b6e7-8d26d55866b2",
   "metadata": {},
   "outputs": [],
   "source": [
    "def factorial(n):\n",
    "    if n == 0 or n == 1:\n",
    "        return 1\n",
    "    else:\n",
    "        return n * factorial(n - 1)"
   ]
  },
  {
   "cell_type": "code",
   "execution_count": 2,
   "id": "b3a16ace-720e-4648-8ed9-3a676331cbfe",
   "metadata": {},
   "outputs": [
    {
     "data": {
      "text/plain": [
       "120"
      ]
     },
     "execution_count": 2,
     "metadata": {},
     "output_type": "execute_result"
    }
   ],
   "source": [
    "factorial(5)"
   ]
  },
  {
   "cell_type": "raw",
   "id": "c9baab5e-2e80-40c7-99c8-8ce48d0495f9",
   "metadata": {},
   "source": [
    "2. Write a Python Program to Display the multiplication Table?\n"
   ]
  },
  {
   "cell_type": "code",
   "execution_count": 9,
   "id": "6d0431c4-2bb0-4bbd-ba78-0990d25a01b3",
   "metadata": {},
   "outputs": [
    {
     "name": "stdout",
     "output_type": "stream",
     "text": [
      "enter the number for which yuou need a table 9\n"
     ]
    },
    {
     "name": "stdout",
     "output_type": "stream",
     "text": [
      "9*1=9\n",
      "9*2=18\n",
      "9*3=27\n",
      "9*4=36\n",
      "9*5=45\n",
      "9*6=54\n",
      "9*7=63\n",
      "9*8=72\n",
      "9*9=81\n",
      "9*10=90\n"
     ]
    }
   ],
   "source": [
    "number=int(input(\"enter the number for which yuou need a table\"))\n",
    "for i in range(1,11):\n",
    "    result=number*i\n",
    "    print(f\"{number}*{i}={result}\")"
   ]
  },
  {
   "cell_type": "raw",
   "id": "aa4969ca-0f5b-4a39-bb9d-d059cb4a51bb",
   "metadata": {},
   "source": [
    "3. Write a Python Program to Print the Fibonacci sequence?"
   ]
  },
  {
   "cell_type": "code",
   "execution_count": 10,
   "id": "813c85fc-cd8e-4720-89d5-242189cae273",
   "metadata": {},
   "outputs": [],
   "source": [
    "def generate_fibonacci(n):\n",
    "    fibonacci_sequence = [0, 1]\n",
    "    while len(fibonacci_sequence) < n:\n",
    "        next_term = fibonacci_sequence[-1] + fibonacci_sequence[-2]\n",
    "        fibonacci_sequence.append(next_term)\n",
    "    return fibonacci_sequence\n"
   ]
  },
  {
   "cell_type": "code",
   "execution_count": 11,
   "id": "c77c3ae0-85a5-452b-a21d-03a86a5b0911",
   "metadata": {},
   "outputs": [
    {
     "data": {
      "text/plain": [
       "[0, 1, 1, 2, 3]"
      ]
     },
     "execution_count": 11,
     "metadata": {},
     "output_type": "execute_result"
    }
   ],
   "source": [
    "generate_fibonacci(5)"
   ]
  },
  {
   "cell_type": "raw",
   "id": "e6a2308d-43b3-4349-9031-8a04568469fe",
   "metadata": {},
   "source": [
    "4. Write a Python Program to Check Armstrong Number?"
   ]
  },
  {
   "cell_type": "code",
   "execution_count": 12,
   "id": "8713785b-21c3-4d1e-a2ce-c08e7d0121c8",
   "metadata": {},
   "outputs": [],
   "source": [
    "def is_armstrong_number(number):\n",
    "    num_digits = len(str(number))\n",
    "    sum_of_powers = sum(int(digit) ** num_digits for digit in str(number))\n",
    "    return number == sum_of_powers"
   ]
  },
  {
   "cell_type": "code",
   "execution_count": 13,
   "id": "1b2826af-5a6a-47ab-917a-9bc1d8241711",
   "metadata": {},
   "outputs": [
    {
     "data": {
      "text/plain": [
       "False"
      ]
     },
     "execution_count": 13,
     "metadata": {},
     "output_type": "execute_result"
    }
   ],
   "source": [
    "is_armstrong_number(56)"
   ]
  },
  {
   "cell_type": "raw",
   "id": "e2edcc10-e751-49d6-a06a-075775773174",
   "metadata": {},
   "source": [
    "5. Write a Python Program to Find Armstrong Number in an Interval?"
   ]
  },
  {
   "cell_type": "code",
   "execution_count": 14,
   "id": "32cb3a7e-db91-41b8-bcf8-83730d1021b3",
   "metadata": {},
   "outputs": [
    {
     "name": "stdout",
     "output_type": "stream",
     "text": [
      "Enter the start of the interval:  56\n",
      "Enter the end of the interval:  78\n"
     ]
    },
    {
     "name": "stdout",
     "output_type": "stream",
     "text": [
      "Armstrong numbers in the interval 56 to 78:\n"
     ]
    }
   ],
   "source": [
    "def is_armstrong_number(number):\n",
    "    num_digits = len(str(number))\n",
    "    sum_of_powers = sum(int(digit) ** num_digits for digit in str(number))\n",
    "    return number == sum_of_powers\n",
    "start_range = int(input(\"Enter the start of the interval: \"))\n",
    "end_range = int(input(\"Enter the end of the interval: \"))\n",
    "print(f\"Armstrong numbers in the interval {start_range} to {end_range}:\")\n",
    "for num in range(start_range, end_range + 1):\n",
    "    if is_armstrong_number(num):\n",
    "        print(num)"
   ]
  },
  {
   "cell_type": "code",
   "execution_count": 36,
   "id": "f08f2c4b-60da-4fe1-bdec-6e6d780e07cb",
   "metadata": {},
   "outputs": [
    {
     "name": "stdout",
     "output_type": "stream",
     "text": [
      "enteerr the natural  number till where you need the sum 10\n"
     ]
    },
    {
     "name": "stdout",
     "output_type": "stream",
     "text": [
      "55\n"
     ]
    }
   ],
   "source": [
    "n=int(input(\"enteerr the natural  number till where you need the sum\"))\n",
    "s=n*(n+1)//2\n",
    "print(s)"
   ]
  },
  {
   "cell_type": "code",
   "execution_count": 37,
   "id": "4b087059-efdb-490a-882d-3d35a3a423c3",
   "metadata": {},
   "outputs": [
    {
     "name": "stdout",
     "output_type": "stream",
     "text": [
      "3 2\n"
     ]
    }
   ],
   "source": []
  },
  {
   "cell_type": "code",
   "execution_count": null,
   "id": "2015f2c9-e584-4a77-9276-4ab1fb22993e",
   "metadata": {},
   "outputs": [],
   "source": []
  }
 ],
 "metadata": {
  "kernelspec": {
   "display_name": "Python 3 (ipykernel)",
   "language": "python",
   "name": "python3"
  },
  "language_info": {
   "codemirror_mode": {
    "name": "ipython",
    "version": 3
   },
   "file_extension": ".py",
   "mimetype": "text/x-python",
   "name": "python",
   "nbconvert_exporter": "python",
   "pygments_lexer": "ipython3",
   "version": "3.10.6"
  }
 },
 "nbformat": 4,
 "nbformat_minor": 5
}
