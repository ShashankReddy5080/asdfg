{
 "cells": [
  {
   "cell_type": "raw",
   "id": "8895fdc3-095d-44e2-be89-9db94ff3d686",
   "metadata": {},
   "source": [
    "1. Why are functions advantageous to have in your programs?\n",
    "ans:Functions allow you to break down a program into smaller manageable and reusable pieces of code.Once you have defined function it can be reusable multiple times in a block of code."
   ]
  },
  {
   "cell_type": "raw",
   "id": "8efd79ee-ed21-462c-84d4-9f762471660e",
   "metadata": {},
   "source": [
    "2. When does the code in a function run: when it's specified or when it's called?\n",
    "ans:The code in a function is run when the fuction is called. "
   ]
  },
  {
   "cell_type": "raw",
   "id": "866e88cf-c7ab-4645-a318-c7b0d0d89d28",
   "metadata": {},
   "source": [
    "3. What statement creates a function?\n",
    "ans:The keyword 'def' is used to create a function.\n",
    "    Syntax:def function_name:\n",
    "           block of code"
   ]
  },
  {
   "cell_type": "raw",
   "id": "99536f46-81b7-4bfd-95f5-292fc8919e07",
   "metadata": {},
   "source": [
    "4. What is the difference between a function and a function call?\n",
    "ans:A function is a block code which can be reusable ehenver we want it.a function call is the actual execution of a function when it is called."
   ]
  },
  {
   "cell_type": "raw",
   "id": "674921ce-cbc4-4a35-9fe7-8c5f1788de65",
   "metadata": {},
   "source": [
    "5. How many global scopes are there in a Python program? How many local scopes?In a Python program, there is typically one global scope and multiple local scopes.\n",
    "ans:Global Scope:\n",
    "    There is only one global scope in a Python program.The global scope includes variables and functions that are defined at the top level \n",
    "    of the program or module. These can be accessed from anywhere in the program.\n",
    "    Local Scopes:\n",
    "    For each function or code block (such as a loop or conditional statement), there is a local scope.\n",
    "    Local scopes are created when a function is called or when a code block is entered.\n",
    "    Variables defined within a local scope are only accessible within that scope."
   ]
  },
  {
   "cell_type": "raw",
   "id": "4f612c42-eec2-4bec-a080-9aefb5853b88",
   "metadata": {},
   "source": [
    "6. What happens to variables in a local scope when the function call returns?\n",
    "ans:When a function call returns, the local scope associated with that function is destroyed, and the variables within that local scope cease to exist."
   ]
  },
  {
   "cell_type": "raw",
   "id": "8dabcbcb-e116-4c16-b465-b9af534e99f5",
   "metadata": {},
   "source": [
    "7. What is the concept of a return value? Is it possible to have a return value in an expression?\n",
    "ans:In programming, a return value is the value that a function produces or sends back to the calling code after its execution.Yes it is possible to an expression to have a return value."
   ]
  },
  {
   "cell_type": "raw",
   "id": "85e1f6df-a7a5-4b4f-bfc3-3405ed72cf6d",
   "metadata": {},
   "source": [
    "8. If a function does not have a return statement, what is the return value of a call to that function?\n",
    "ans:If a function does not have a return statement, the return value of a call to that function is None."
   ]
  },
  {
   "cell_type": "raw",
   "id": "a4dce475-0005-4ce4-9ca8-3578c572ea42",
   "metadata": {},
   "source": [
    "9. How do you make a function variable refer to the global variable?\n",
    "ans:In Python, if you want to make a function variable refer to a global variable, you can use the global keyword within the function. This informs the interpreter that the variable you are using is a global variable, rather than creating a new local variable within the function."
   ]
  },
  {
   "cell_type": "raw",
   "id": "94f261f1-a850-4ab6-8053-25bd97f35f66",
   "metadata": {},
   "source": [
    "10. What is the data type of None?\n",
    "ans:The datatype of None in python is 'NoneType'."
   ]
  },
  {
   "cell_type": "raw",
   "id": "c4983cf2-24bd-450a-a27d-3dc18eb2bd15",
   "metadata": {},
   "source": [
    "11. What does the sentence import areallyourpetsnamederic do?\n",
    "ans:import areallyoutpetsnamederic is not a standard python library.Generally import function is used to import libraries.\n"
   ]
  },
  {
   "cell_type": "raw",
   "id": "a7be8af5-2c21-44ba-a3f5-fdb51561c196",
   "metadata": {},
   "source": [
    "12. If you had a bacon() feature in a spam module, what would you call it after importing spam?\n",
    "ans:If you have a bacon() feature in a module named spam, after importing the spam module, you would call the bacon() function using the dot notation."
   ]
  },
  {
   "cell_type": "code",
   "execution_count": 1,
   "id": "2148c7ad-26a6-4c8d-9510-d7d0bdeabca0",
   "metadata": {},
   "outputs": [
    {
     "ename": "ModuleNotFoundError",
     "evalue": "No module named 'spam'",
     "output_type": "error",
     "traceback": [
      "\u001b[0;31m---------------------------------------------------------------------------\u001b[0m",
      "\u001b[0;31mModuleNotFoundError\u001b[0m                       Traceback (most recent call last)",
      "Cell \u001b[0;32mIn [1], line 1\u001b[0m\n\u001b[0;32m----> 1\u001b[0m \u001b[38;5;28;01mimport\u001b[39;00m \u001b[38;5;21;01mspam\u001b[39;00m\n\u001b[1;32m      3\u001b[0m \u001b[38;5;66;03m# Call the bacon() function from the spam module\u001b[39;00m\n\u001b[1;32m      4\u001b[0m spam\u001b[38;5;241m.\u001b[39mbacon()\n",
      "\u001b[0;31mModuleNotFoundError\u001b[0m: No module named 'spam'"
     ]
    }
   ],
   "source": [
    "import spam\n",
    "\n",
    "# Call the bacon() function from the spam module\n",
    "spam.bacon()\n"
   ]
  },
  {
   "cell_type": "raw",
   "id": "a6699aec-9143-4fe0-953f-34ca27af4a07",
   "metadata": {},
   "source": [
    "13. What can you do to save a programme from crashing if it encounters an error?\n",
    "ans:We canuse the try and except method to save a program from crashing if it encounters an error."
   ]
  },
  {
   "cell_type": "raw",
   "id": "886b5f65-78d6-410c-a470-e76b1af55229",
   "metadata": {},
   "source": [
    "14. What is the purpose of the try clause? What is the purpose of the except clause?\n",
    "ans:If an exception occurs within the try block, the program does not terminate abruptly, and the control is transferred to the corresponding except block.An except clause makes sure that the block of code inside it runs successfuly when try may or maynot run."
   ]
  }
 ],
 "metadata": {
  "kernelspec": {
   "display_name": "Python 3 (ipykernel)",
   "language": "python",
   "name": "python3"
  },
  "language_info": {
   "codemirror_mode": {
    "name": "ipython",
    "version": 3
   },
   "file_extension": ".py",
   "mimetype": "text/x-python",
   "name": "python",
   "nbconvert_exporter": "python",
   "pygments_lexer": "ipython3",
   "version": "3.10.6"
  }
 },
 "nbformat": 4,
 "nbformat_minor": 5
}
