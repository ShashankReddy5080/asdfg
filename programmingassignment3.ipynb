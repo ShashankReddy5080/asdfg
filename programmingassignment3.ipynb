{
 "cells": [
  {
   "cell_type": "raw",
   "id": "3a1d9cb9-3222-4aa7-8374-9340719b5edc",
   "metadata": {},
   "source": [
    "1. Write a Python Program to Check if a Number is Positive, Negative or Zero?"
   ]
  },
  {
   "cell_type": "code",
   "execution_count": 4,
   "id": "0ce6dee8-3603-4d00-8965-c4e366b2b855",
   "metadata": {},
   "outputs": [
    {
     "name": "stdin",
     "output_type": "stream",
     "text": [
      "enter the number: -9\n"
     ]
    },
    {
     "name": "stdout",
     "output_type": "stream",
     "text": [
      "the number is negative\n"
     ]
    }
   ],
   "source": [
    "n=int(input(\"enter the number:\"))\n",
    "if n<0:\n",
    "    print(\"the number is negative\")\n",
    "elif n==0:\n",
    "    print(\"the number is zero\")\n",
    "else:\n",
    "    print(\"the number is positive\")"
   ]
  },
  {
   "cell_type": "raw",
   "id": "2ecf03fb-bd78-48f1-888a-a1a52a255d91",
   "metadata": {},
   "source": [
    "2. Write a Python Program to Check if a Number is Odd or Even?"
   ]
  },
  {
   "cell_type": "code",
   "execution_count": 5,
   "id": "68aca155-4880-4963-994d-b1ceaae9de03",
   "metadata": {},
   "outputs": [
    {
     "name": "stdin",
     "output_type": "stream",
     "text": [
      "enter the number 5\n"
     ]
    },
    {
     "name": "stdout",
     "output_type": "stream",
     "text": [
      "the number is odd\n"
     ]
    }
   ],
   "source": [
    "n=int(input(\"enter the number\"))\n",
    "if n%2==0:\n",
    "    print(\"the number is even\")\n",
    "else :\n",
    "    print(\"the number is odd\")\n",
    "      "
   ]
  },
  {
   "cell_type": "raw",
   "id": "0e91810d-6681-4193-92ee-2bbdf11dd023",
   "metadata": {},
   "source": [
    "3. Write a Python Program to Check Leap Year?"
   ]
  },
  {
   "cell_type": "code",
   "execution_count": 14,
   "id": "04c069d6-bb6c-4a47-bb96-8c163507a394",
   "metadata": {},
   "outputs": [
    {
     "name": "stdin",
     "output_type": "stream",
     "text": [
      "enter the year 2020\n"
     ]
    },
    {
     "name": "stdout",
     "output_type": "stream",
     "text": [
      "the year is leap\n"
     ]
    }
   ],
   "source": [
    "n=int(input(\"enter the year\"))\n",
    "if (n%4==0 and n%100!=0)or n%400==0:\n",
    "    print(\"the year is leap\")\n",
    "else:\n",
    "    print(\"the year is not leap\")"
   ]
  },
  {
   "cell_type": "raw",
   "id": "f003b720-7f62-4b89-a584-7e222bd1c561",
   "metadata": {},
   "source": [
    "4. Write a Python Program to Check Prime Number?"
   ]
  },
  {
   "cell_type": "code",
   "execution_count": 19,
   "id": "00f8276f-e61c-43b6-ba23-27d6c1be9585",
   "metadata": {},
   "outputs": [
    {
     "name": "stdin",
     "output_type": "stream",
     "text": [
      "enter the number 37\n"
     ]
    },
    {
     "name": "stdout",
     "output_type": "stream",
     "text": [
      "the number is prime\n"
     ]
    }
   ],
   "source": [
    "n=int(input(\"enter the number\"))\n",
    "for i in range(2,n):\n",
    "    if n%i==0:\n",
    "        print(\"the nu0mber is not prime\")\n",
    "print(\"the number is prime\")"
   ]
  },
  {
   "cell_type": "raw",
   "id": "48594035-296d-492c-97bc-601cdb3f3aab",
   "metadata": {},
   "source": [
    "5. Write a Python Program to Print all Prime Numbers in an Interval of 1-10000?"
   ]
  },
  {
   "cell_type": "code",
   "execution_count": null,
   "id": "fa1cda02-cef0-48c5-9d78-6deab25e0caa",
   "metadata": {},
   "outputs": [],
   "source": [
    "for i in range(1,10000):\n",
    "        for n in range(2,i):\n",
    "            if i%n!=0:\n",
    "        print(i)\n",
    "            "
   ]
  },
  {
   "cell_type": "code",
   "execution_count": null,
   "id": "1a310396-6a88-4469-8784-4833563d8b7c",
   "metadata": {},
   "outputs": [],
   "source": []
  }
 ],
 "metadata": {
  "kernelspec": {
   "display_name": "Python 3 (ipykernel)",
   "language": "python",
   "name": "python3"
  },
  "language_info": {
   "codemirror_mode": {
    "name": "ipython",
    "version": 3
   },
   "file_extension": ".py",
   "mimetype": "text/x-python",
   "name": "python",
   "nbconvert_exporter": "python",
   "pygments_lexer": "ipython3",
   "version": "3.10.6"
  }
 },
 "nbformat": 4,
 "nbformat_minor": 5
}
