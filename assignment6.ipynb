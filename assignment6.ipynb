{
 "cells": [
  {
   "cell_type": "raw",
   "id": "36810969-eca8-4d27-8056-3416a2609a7f",
   "metadata": {},
   "source": [
    "1. What are escape characters, and how do you use them?\n",
    "ans:They are special characgters that are non printable or reserved characters.These escape characters are prefixed using backslash(\\)."
   ]
  },
  {
   "cell_type": "raw",
   "id": "08c3b276-927f-49d7-92f9-52e4ec57fd02",
   "metadata": {},
   "source": [
    "2. What do the escape characters n and t stand for?\n",
    "ans:The escape characters n and t stand for newline and tab space."
   ]
  },
  {
   "cell_type": "raw",
   "id": "b08132b0-7192-404f-9258-b4d8880ecec8",
   "metadata": {},
   "source": [
    "3. What is the way to include backslash characters in a string?\n",
    "ans:The way to include a backslash in the string is using'\\\\'."
   ]
  },
  {
   "cell_type": "raw",
   "id": "e0597391-4d5c-4786-9420-02b02ea49a59",
   "metadata": {},
   "source": [
    "4. The string \"Howl's Moving Castle\" is a correct value. Why isn't the single quote character in the word Howl's not escaped a problem?\n",
    "ans:Python considers any charcter in double quotes aas string that is why single quote in Howl's not a escape problem."
   ]
  },
  {
   "cell_type": "raw",
   "id": "79b79f50-60c8-4362-90fc-7f3f52dc866a",
   "metadata": {},
   "source": [
    "5. How do you write a string of newlines if you don't want to use the n character?\n",
    "ans:If we so not want to use n character for newline we use triple quotes.\n",
    "ex:'''this is a newline\n",
    "this is thee second line \n",
    "this  is the third line'''"
   ]
  },
  {
   "cell_type": "raw",
   "id": "1a63c332-ac12-4607-b321-3e18179c40a6",
   "metadata": {},
   "source": [
    "6. What are the values of the given expressions?\n",
    "'Hello, world!'[1]\n",
    "'Hello, world!'[0:5]\n",
    "'Hello, world!'[:5]\n",
    "'Hello, world!'[3:]\n",
    "ans:e\n",
    "    Hello,\n",
    "    Hello,\n",
    "    lo, World\n",
    "    \n"
   ]
  },
  {
   "cell_type": "raw",
   "id": "5f620549-b464-46e6-8cfc-9f838bcbea13",
   "metadata": {},
   "source": [
    "7. What are the values of the following expressions?\n",
    "'Hello'.upper()\n",
    "'Hello'.upper().isupper()\n",
    "'Hello'.upper().lower()\n",
    "ans:'HELLO'\n",
    "    'True'\n",
    "    'hello'"
   ]
  },
  {
   "cell_type": "raw",
   "id": "dc83b241-aa51-41f1-9392-05a7e54c1b9b",
   "metadata": {},
   "source": [
    "8. What are the values of the following expressions?\n",
    "'Remember, remember, the fifth of July.'.split()\n",
    "'-'.join('There can only one.'.split())\n",
    "ans:['Remember,', 'remember,', 'the', 'fifth', 'of', 'July.']\n",
    "    'There-can-only-one.'"
   ]
  },
  {
   "cell_type": "raw",
   "id": "7e5fb9d7-9a49-431c-b820-7b7137e0989b",
   "metadata": {},
   "source": [
    "9. What are the methods for right-justifying, left-justifying, and centering a string?\n",
    "ans: for right-justification we use string.rjust(length required)\n",
    "     for left justification we use string.ljust(length required)\n",
    "     for centering a string we ude string.center(required length)"
   ]
  },
  {
   "cell_type": "raw",
   "id": "9969ee6b-e4fa-46eb-bff0-bed74a17e5f9",
   "metadata": {},
   "source": [
    "10. What is the best way to remove whitespace characters from the start or end?\n",
    "ans:The best way to remove whitespace between characters is to use strip keyword i.e string.strip()."
   ]
  },
  {
   "cell_type": "code",
   "execution_count": null,
   "id": "dae01705-ef70-4b99-b1bf-40d8025549c8",
   "metadata": {},
   "outputs": [],
   "source": []
  },
  {
   "cell_type": "code",
   "execution_count": null,
   "id": "22532a78-f9dc-4326-9f29-450e977665d9",
   "metadata": {},
   "outputs": [],
   "source": []
  },
  {
   "cell_type": "code",
   "execution_count": null,
   "id": "ce33048a-d91e-4515-9a7b-edbae6b9370a",
   "metadata": {},
   "outputs": [],
   "source": []
  },
  {
   "cell_type": "code",
   "execution_count": null,
   "id": "1b32b46c-f494-45f3-abe6-c2bf4447042b",
   "metadata": {},
   "outputs": [],
   "source": []
  }
 ],
 "metadata": {
  "kernelspec": {
   "display_name": "Python 3 (ipykernel)",
   "language": "python",
   "name": "python3"
  },
  "language_info": {
   "codemirror_mode": {
    "name": "ipython",
    "version": 3
   },
   "file_extension": ".py",
   "mimetype": "text/x-python",
   "name": "python",
   "nbconvert_exporter": "python",
   "pygments_lexer": "ipython3",
   "version": "3.10.6"
  }
 },
 "nbformat": 4,
 "nbformat_minor": 5
}
