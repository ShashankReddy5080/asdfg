{
 "cells": [
  {
   "cell_type": "raw",
   "id": "d90aebbf-7d76-493f-b920-f6bb13986a2e",
   "metadata": {},
   "source": [
    "1. Write a Python program to convert kilometers to miles?"
   ]
  },
  {
   "cell_type": "code",
   "execution_count": 2,
   "id": "724b64ec-ecc1-44b6-9c26-012222801321",
   "metadata": {},
   "outputs": [
    {
     "name": "stdin",
     "output_type": "stream",
     "text": [
      "enter the distance in kilometer: 8.9\n"
     ]
    },
    {
     "name": "stdout",
     "output_type": "stream",
     "text": [
      "answer in miles: 5.530201900000001\n"
     ]
    }
   ],
   "source": [
    "km=float(input(\"enter the distance in kilometer:\"))\n",
    "miles=km*0.621371\n",
    "print(\"answer in miles:\",miles)"
   ]
  },
  {
   "cell_type": "raw",
   "id": "323d4bb3-649c-4ffa-930b-ea037919971f",
   "metadata": {},
   "source": [
    "2. Write a Python program to convert Celsius to Fahrenheit?"
   ]
  },
  {
   "cell_type": "code",
   "execution_count": 4,
   "id": "3ecc14f0-8036-4e6c-a8e4-a85c6a4eb231",
   "metadata": {},
   "outputs": [
    {
     "name": "stdin",
     "output_type": "stream",
     "text": [
      "enter the temperature in celsius: 56\n"
     ]
    },
    {
     "name": "stdout",
     "output_type": "stream",
     "text": [
      "temp in fahrenheit: 132.8\n"
     ]
    }
   ],
   "source": [
    "celcius=float(input(\"enter the temperature in celsius:\"))\n",
    "fahrenheit=(celcius*9/5)+32\n",
    "print(\"temp in fahrenheit:\",fahrenheit)"
   ]
  },
  {
   "cell_type": "raw",
   "id": "39275ee9-6a6c-40c8-98a0-73a92a7d231d",
   "metadata": {},
   "source": [
    "3. Write a Python program to display calendar?"
   ]
  },
  {
   "cell_type": "code",
   "execution_count": 6,
   "id": "4cbc83b3-a0dc-4ba2-9c77-0a7eab0ecaca",
   "metadata": {},
   "outputs": [
    {
     "name": "stdin",
     "output_type": "stream",
     "text": [
      "Enter the year:  2024\n",
      "Enter the month (1-12):  1\n"
     ]
    },
    {
     "name": "stdout",
     "output_type": "stream",
     "text": [
      "    January 2024\n",
      "Mo Tu We Th Fr Sa Su\n",
      " 1  2  3  4  5  6  7\n",
      " 8  9 10 11 12 13 14\n",
      "15 16 17 18 19 20 21\n",
      "22 23 24 25 26 27 28\n",
      "29 30 31\n",
      "\n"
     ]
    }
   ],
   "source": [
    "import calendar\n",
    "year = int(input(\"Enter the year: \"))\n",
    "month = int(input(\"Enter the month (1-12): \"))\n",
    "cal = calendar.TextCalendar()\n",
    "print(cal.formatmonth(year, month))\n"
   ]
  },
  {
   "cell_type": "raw",
   "id": "ca5085e1-93eb-42b0-b28b-e5cb8ccba9ea",
   "metadata": {},
   "source": [
    "4. Write a Python program to solve quadratic equation?\n"
   ]
  },
  {
   "cell_type": "code",
   "execution_count": 7,
   "id": "2ee81484-ae52-4ac5-9553-07972f9c1647",
   "metadata": {},
   "outputs": [
    {
     "name": "stdin",
     "output_type": "stream",
     "text": [
      "Enter the coefficient a:  7\n",
      "Enter the coefficient b:  -8\n",
      "Enter the coefficient c:  -9\n"
     ]
    },
    {
     "name": "stdout",
     "output_type": "stream",
     "text": [
      "Root 1: (1.8411706310450842+0j)\n",
      "Root 2: (-0.6983134881879413+0j)\n"
     ]
    }
   ],
   "source": [
    "import cmath \n",
    "a = float(input(\"Enter the coefficient a: \"))\n",
    "b = float(input(\"Enter the coefficient b: \"))\n",
    "c = float(input(\"Enter the coefficient c: \"))\n",
    "discriminant = (b**2) - (4*a*c)\n",
    "if discriminant > 0:\n",
    "    root1 = (-b + cmath.sqrt(discriminant)) / (2*a)\n",
    "    root2 = (-b - cmath.sqrt(discriminant)) / (2*a)\n",
    "    print(f\"Root 1: {root1}\")\n",
    "    print(f\"Root 2: {root2}\")\n",
    "elif discriminant == 0:\n",
    "    root = -b / (2*a)\n",
    "    print(f\"Double Root: {root}\")\n",
    "else:\n",
    "    real_part = -b / (2*a)\n",
    "    imaginary_part = cmath.sqrt(abs(discriminant)) / (2*a)\n",
    "    root1 = complex(real_part, imaginary_part)\n",
    "    root2 = complex(real_part, -imaginary_part)\n",
    "    print(f\"Root 1: {root1}\")\n",
    "    print(f\"Root 2: {root2}\")\n"
   ]
  },
  {
   "cell_type": "code",
   "execution_count": null,
   "id": "586df4ad-fe0c-4f26-87ef-a33cc94fe318",
   "metadata": {},
   "outputs": [],
   "source": []
  }
 ],
 "metadata": {
  "kernelspec": {
   "display_name": "Python 3 (ipykernel)",
   "language": "python",
   "name": "python3"
  },
  "language_info": {
   "codemirror_mode": {
    "name": "ipython",
    "version": 3
   },
   "file_extension": ".py",
   "mimetype": "text/x-python",
   "name": "python",
   "nbconvert_exporter": "python",
   "pygments_lexer": "ipython3",
   "version": "3.10.6"
  }
 },
 "nbformat": 4,
 "nbformat_minor": 5
}
