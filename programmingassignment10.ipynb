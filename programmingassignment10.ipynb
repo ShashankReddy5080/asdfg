{
 "cells": [
  {
   "cell_type": "raw",
   "id": "a0b347d3-bcae-41a8-9e4f-3cc92b83659e",
   "metadata": {},
   "source": [
    "1. Write a Python program to find sum of elements in list?"
   ]
  },
  {
   "cell_type": "code",
   "execution_count": 4,
   "id": "3ca852d5-8a51-4a73-a2b6-e45b2766cb00",
   "metadata": {},
   "outputs": [
    {
     "name": "stdout",
     "output_type": "stream",
     "text": [
      "51\n"
     ]
    }
   ],
   "source": [
    "list=(12,4,5,6,7,8,9)\n",
    "sum=0\n",
    "for i in list:\n",
    "    sum+=i\n",
    "print(sum)"
   ]
  },
  {
   "cell_type": "raw",
   "id": "d452aaf1-c8d7-4b21-b8a4-02b76ce37fe4",
   "metadata": {},
   "source": [
    "2. Write a Python program to Multiply all numbers in the list?"
   ]
  },
  {
   "cell_type": "code",
   "execution_count": 5,
   "id": "a3c1fd41-b7ff-438c-8a64-e71bdd6841e6",
   "metadata": {},
   "outputs": [
    {
     "name": "stdout",
     "output_type": "stream",
     "text": [
      "179381280\n"
     ]
    }
   ],
   "source": [
    "list=(12,34,65,76,89)\n",
    "product=1\n",
    "for i in list:\n",
    "    product*=i\n",
    "print(product)\n",
    "    "
   ]
  },
  {
   "cell_type": "raw",
   "id": "b11a0def-2319-4925-b204-0b0f543f0967",
   "metadata": {},
   "source": [
    "3. Write a Python program to find smallest number in a list?"
   ]
  },
  {
   "cell_type": "code",
   "execution_count": 20,
   "id": "ec530627-57d0-4509-ad92-f2cc26b4a7ed",
   "metadata": {},
   "outputs": [
    {
     "name": "stdout",
     "output_type": "stream",
     "text": [
      "9\n"
     ]
    }
   ],
   "source": [
    "list=[12,34,54,67,89,9]\n",
    "smallest=list[0]\n",
    "for i in list:\n",
    "    if i < smallest:\n",
    "        smallest=i\n",
    "print(smallest)\n"
   ]
  },
  {
   "cell_type": "raw",
   "id": "1935f89a-50d3-421b-9ab2-9cb0e63cf209",
   "metadata": {},
   "source": [
    "4. Write a Python program to find largest number in a list?"
   ]
  },
  {
   "cell_type": "code",
   "execution_count": 21,
   "id": "8cbebf90-41ef-4568-802e-d8c2260f9bc8",
   "metadata": {},
   "outputs": [
    {
     "name": "stdout",
     "output_type": "stream",
     "text": [
      "87\n"
     ]
    }
   ],
   "source": [
    "list=[12,34,54,67,87,9]\n",
    "largest=list[0]\n",
    "for i in list:\n",
    "    if i>largest:\n",
    "        largest=i\n",
    "print(largest)"
   ]
  },
  {
   "cell_type": "raw",
   "id": "d809c472-559e-453f-8128-a9284257d639",
   "metadata": {},
   "source": [
    "5. Write a Python program to find second largest number in a list?"
   ]
  },
  {
   "cell_type": "code",
   "execution_count": 22,
   "id": "5e6fcde1-47fe-463b-9a95-092873a1ec58",
   "metadata": {},
   "outputs": [
    {
     "name": "stdout",
     "output_type": "stream",
     "text": [
      "The second largest number in the list is: 8\n"
     ]
    }
   ],
   "source": [
    "def find_second_largest(lst):\n",
    "    # Check if the list has at least two elements\n",
    "    if len(lst) < 2:\n",
    "        return \"List should have at least two elements\"\n",
    "    \n",
    "    # Initialize the largest and second largest numbers with the first two elements of the list\n",
    "    if lst[0] > lst[1]:\n",
    "        largest = lst[0]\n",
    "        second_largest = lst[1]\n",
    "    else:\n",
    "        largest = lst[1]\n",
    "        second_largest = lst[0]\n",
    "    \n",
    "    # Iterate through the list to find the largest and second largest numbers\n",
    "    for i in range(2, len(lst)):\n",
    "        if lst[i] > largest:\n",
    "            second_largest = largest\n",
    "            largest = lst[i]\n",
    "        elif lst[i] > second_largest and lst[i] != largest:\n",
    "            second_largest = lst[i]\n",
    "    \n",
    "    return second_largest\n",
    "\n",
    "# Example list\n",
    "my_list = [8, 4, 10, 3, 6, 2]\n",
    "\n",
    "# Find the second largest number in the list\n",
    "second_largest_num = find_second_largest(my_list)\n",
    "\n",
    "# Display the result\n",
    "print(\"The second largest number in the list is:\", second_largest_num)\n"
   ]
  },
  {
   "cell_type": "raw",
   "id": "56bb80ad-b931-4d34-aa67-e4751febd24b",
   "metadata": {},
   "source": [
    "7. Write a Python program to print even numbers in a list?"
   ]
  },
  {
   "cell_type": "code",
   "execution_count": 10,
   "id": "f83dab09-ae52-45ed-a0f1-acaa1da4dc0d",
   "metadata": {},
   "outputs": [
    {
     "name": "stdout",
     "output_type": "stream",
     "text": [
      "56\n",
      "76\n",
      "90\n"
     ]
    }
   ],
   "source": [
    "list=[43,56,76,87,90,67]\n",
    "for i in list:\n",
    "    if (i%2==0):\n",
    "        print(i)"
   ]
  },
  {
   "cell_type": "raw",
   "id": "18071200-4737-4cb8-8998-59f99969f15a",
   "metadata": {},
   "source": [
    "8. Write a Python program to print odd numbers in a List?\n"
   ]
  },
  {
   "cell_type": "code",
   "execution_count": 12,
   "id": "b4574a13-34ca-4b08-8421-12ec1c3c00d1",
   "metadata": {
    "tags": []
   },
   "outputs": [
    {
     "name": "stdout",
     "output_type": "stream",
     "text": [
      "43\n",
      "67\n",
      "89\n",
      "77\n",
      "43\n"
     ]
    }
   ],
   "source": [
    "list=[43,54,67,89,98,0,77,43]\n",
    "for i in list:\n",
    "    if i%2!=0:\n",
    "        print(i)"
   ]
  },
  {
   "cell_type": "raw",
   "id": "61964889-aea7-4219-a3bb-60f1577b71f9",
   "metadata": {},
   "source": [
    "9. Write a Python program to Remove empty List from List?"
   ]
  },
  {
   "cell_type": "code",
   "execution_count": 1,
   "id": "30da0357-fcd0-444d-9c5e-aa9460555c05",
   "metadata": {},
   "outputs": [
    {
     "name": "stdout",
     "output_type": "stream",
     "text": [
      "List after removing empty lists: [[1, 2], [3, 4], [5, 6], [7, 8]]\n"
     ]
    }
   ],
   "source": [
    "def remove_empty_lists(lst):\n",
    "    # Initialize an empty list to store non-empty lists\n",
    "    non_empty_lists = []\n",
    "\n",
    "    # Iterate through each sublist in the input list\n",
    "    for sublist in lst:\n",
    "        # Check if the sublist is not empty\n",
    "        if sublist:\n",
    "            # If not empty, append it to the list of non-empty lists\n",
    "            non_empty_lists.append(sublist)\n",
    "\n",
    "    return non_empty_lists\n",
    "\n",
    "# Example list containing empty lists\n",
    "my_list = [[1, 2], [], [3, 4], [], [], [5, 6], [], [7, 8], []]\n",
    "\n",
    "# Remove empty lists from the list\n",
    "result_list = remove_empty_lists(my_list)\n",
    "\n",
    "# Display the result\n",
    "print(\"List after removing empty lists:\", result_list)\n"
   ]
  },
  {
   "cell_type": "raw",
   "id": "6fa63d6b-51d3-4a68-8fef-eb2afcc4003a",
   "metadata": {},
   "source": [
    "10. Write a Python program to Cloning or Copying a list?"
   ]
  },
  {
   "cell_type": "code",
   "execution_count": 2,
   "id": "80cd0c95-e006-4178-afd7-0acccd7a256f",
   "metadata": {},
   "outputs": [
    {
     "name": "stdout",
     "output_type": "stream",
     "text": [
      "[21, 43, 54, 67, 87, 90]\n"
     ]
    }
   ],
   "source": [
    "list=[21,43,54,67,87,90]\n",
    "copylist=list.copy()\n",
    "print(copylist)"
   ]
  },
  {
   "cell_type": "raw",
   "id": "0a713472-7928-48fc-b798-e55acda339ef",
   "metadata": {},
   "source": [
    "11. Write a Python program to Count occurrences of an element in a list?"
   ]
  },
  {
   "cell_type": "code",
   "execution_count": 8,
   "id": "29aabff7-4faf-491f-b9e3-5592aac8541d",
   "metadata": {},
   "outputs": [
    {
     "name": "stdin",
     "output_type": "stream",
     "text": [
      "enter a number to find the count 77\n"
     ]
    },
    {
     "name": "stdout",
     "output_type": "stream",
     "text": [
      "0\n"
     ]
    }
   ],
   "source": [
    "element=int(input(\"enter a number to find the count\"))\n",
    "list=[12,34,12,43,43,56,76,78,56,78,90,12,12,12]\n",
    "count=0\n",
    "for i in list:\n",
    "    if i==element:\n",
    "        count+=1\n",
    "print(count)\n",
    "        "
   ]
  },
  {
   "cell_type": "raw",
   "id": "63802184-481c-4850-8cf5-42d3201928fe",
   "metadata": {},
   "source": []
  },
  {
   "cell_type": "code",
   "execution_count": null,
   "id": "329511d1-e274-44c5-8c6c-a1c4c60b7952",
   "metadata": {},
   "outputs": [],
   "source": []
  }
 ],
 "metadata": {
  "kernelspec": {
   "display_name": "Python 3 (ipykernel)",
   "language": "python",
   "name": "python3"
  },
  "language_info": {
   "codemirror_mode": {
    "name": "ipython",
    "version": 3
   },
   "file_extension": ".py",
   "mimetype": "text/x-python",
   "name": "python",
   "nbconvert_exporter": "python",
   "pygments_lexer": "ipython3",
   "version": "3.10.8"
  }
 },
 "nbformat": 4,
 "nbformat_minor": 5
}
